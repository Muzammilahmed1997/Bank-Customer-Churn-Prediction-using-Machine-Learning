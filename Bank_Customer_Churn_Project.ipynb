{
 "cells": [
  {
   "attachments": {},
   "cell_type": "markdown",
   "metadata": {},
   "source": [
    "## Importing Libraries"
   ]
  },
  {
   "cell_type": "code",
   "execution_count": 772,
   "metadata": {},
   "outputs": [],
   "source": [
    "import pandas as pd   \n",
    "import matplotlib.pyplot as plt\n",
    "import plotly.express as px\n",
    "import time\n",
    "import numpy as np\n",
    "import warnings\n",
    "\n",
    "from sklearn.ensemble import RandomForestClassifier, GradientBoostingClassifier\n",
    "\n",
    "from sklearn.model_selection import train_test_split, GridSearchCV\n",
    "from sklearn.metrics import roc_curve, roc_auc_score\n",
    "from sklearn.metrics import confusion_matrix\n",
    "from sklearn.metrics import recall_score\n",
    "from sklearn.metrics import precision_score\n",
    "from sklearn.metrics import classification_report\n",
    "from sklearn.metrics import ConfusionMatrixDisplay\n",
    "from sklearn.model_selection import cross_val_predict\n",
    "from sklearn.metrics import confusion_matrix\n",
    "\n",
    "from sklearn.metrics import accuracy_score\n",
    "#from sklearn.metrics import plot_confusion_matrix\n",
    "from sklearn.model_selection import KFold, cross_val_score\n",
    "\n",
    "from sklearn.pipeline import Pipeline\n",
    "from matplotlib import pyplot\n",
    "# the permutation based importance\n",
    "import seaborn as sns\n",
    "from sklearn.inspection import permutation_importance\n",
    "\n",
    "from numpy import mean\n",
    "import warnings\n",
    "warnings.filterwarnings(\"ignore\") "
   ]
  },
  {
   "attachments": {},
   "cell_type": "markdown",
   "metadata": {},
   "source": [
    "## Loading Dataset"
   ]
  },
  {
   "cell_type": "code",
   "execution_count": 773,
   "metadata": {},
   "outputs": [
    {
     "data": {
      "text/plain": [
       "(10127, 21)"
      ]
     },
     "execution_count": 773,
     "metadata": {},
     "output_type": "execute_result"
    }
   ],
   "source": [
    "# Importing Dataset using Pandas.\n",
    "data = pd.read_csv(\"E:\\Datasets\\customer_churn.csv\")\n",
    "data.shape  "
   ]
  },
  {
   "cell_type": "code",
   "execution_count": 774,
   "metadata": {},
   "outputs": [
    {
     "data": {
      "text/html": [
       "<div>\n",
       "<style scoped>\n",
       "    .dataframe tbody tr th:only-of-type {\n",
       "        vertical-align: middle;\n",
       "    }\n",
       "\n",
       "    .dataframe tbody tr th {\n",
       "        vertical-align: top;\n",
       "    }\n",
       "\n",
       "    .dataframe thead th {\n",
       "        text-align: right;\n",
       "    }\n",
       "</style>\n",
       "<table border=\"1\" class=\"dataframe\">\n",
       "  <thead>\n",
       "    <tr style=\"text-align: right;\">\n",
       "      <th></th>\n",
       "      <th>client_num</th>\n",
       "      <th>attrition_flag</th>\n",
       "      <th>customer_age</th>\n",
       "      <th>gender</th>\n",
       "      <th>dependent_count</th>\n",
       "      <th>education_level</th>\n",
       "      <th>marital_status</th>\n",
       "      <th>income_category</th>\n",
       "      <th>card_category</th>\n",
       "      <th>months_on_book</th>\n",
       "      <th>...</th>\n",
       "      <th>months_inactive_12_mon</th>\n",
       "      <th>contacts_count_12_mon</th>\n",
       "      <th>credit_limit</th>\n",
       "      <th>total_revolving_bal</th>\n",
       "      <th>avg_open_to_buy</th>\n",
       "      <th>total_amt_chng_q4_q1</th>\n",
       "      <th>total_trans_amt</th>\n",
       "      <th>total_trans_ct</th>\n",
       "      <th>total_ct_chng_q4_q1</th>\n",
       "      <th>avg_utilization_ratio</th>\n",
       "    </tr>\n",
       "  </thead>\n",
       "  <tbody>\n",
       "    <tr>\n",
       "      <th>0</th>\n",
       "      <td>768805383</td>\n",
       "      <td>Existing Customer</td>\n",
       "      <td>45</td>\n",
       "      <td>M</td>\n",
       "      <td>3</td>\n",
       "      <td>High School</td>\n",
       "      <td>Married</td>\n",
       "      <td>$60K - $80K</td>\n",
       "      <td>Blue</td>\n",
       "      <td>39</td>\n",
       "      <td>...</td>\n",
       "      <td>1</td>\n",
       "      <td>3</td>\n",
       "      <td>12691.0</td>\n",
       "      <td>777</td>\n",
       "      <td>11914.0</td>\n",
       "      <td>1.335</td>\n",
       "      <td>1144</td>\n",
       "      <td>42</td>\n",
       "      <td>1.625</td>\n",
       "      <td>0.061</td>\n",
       "    </tr>\n",
       "    <tr>\n",
       "      <th>1</th>\n",
       "      <td>818770008</td>\n",
       "      <td>Existing Customer</td>\n",
       "      <td>49</td>\n",
       "      <td>F</td>\n",
       "      <td>5</td>\n",
       "      <td>Graduate</td>\n",
       "      <td>Single</td>\n",
       "      <td>Less than $40K</td>\n",
       "      <td>Blue</td>\n",
       "      <td>44</td>\n",
       "      <td>...</td>\n",
       "      <td>1</td>\n",
       "      <td>2</td>\n",
       "      <td>8256.0</td>\n",
       "      <td>864</td>\n",
       "      <td>7392.0</td>\n",
       "      <td>1.541</td>\n",
       "      <td>1291</td>\n",
       "      <td>33</td>\n",
       "      <td>3.714</td>\n",
       "      <td>0.105</td>\n",
       "    </tr>\n",
       "    <tr>\n",
       "      <th>2</th>\n",
       "      <td>713982108</td>\n",
       "      <td>Existing Customer</td>\n",
       "      <td>51</td>\n",
       "      <td>M</td>\n",
       "      <td>3</td>\n",
       "      <td>Graduate</td>\n",
       "      <td>Married</td>\n",
       "      <td>$80K - $120K</td>\n",
       "      <td>Blue</td>\n",
       "      <td>36</td>\n",
       "      <td>...</td>\n",
       "      <td>1</td>\n",
       "      <td>0</td>\n",
       "      <td>3418.0</td>\n",
       "      <td>0</td>\n",
       "      <td>3418.0</td>\n",
       "      <td>2.594</td>\n",
       "      <td>1887</td>\n",
       "      <td>20</td>\n",
       "      <td>2.333</td>\n",
       "      <td>0.000</td>\n",
       "    </tr>\n",
       "    <tr>\n",
       "      <th>3</th>\n",
       "      <td>769911858</td>\n",
       "      <td>Existing Customer</td>\n",
       "      <td>40</td>\n",
       "      <td>F</td>\n",
       "      <td>4</td>\n",
       "      <td>High School</td>\n",
       "      <td>Unknown</td>\n",
       "      <td>Less than $40K</td>\n",
       "      <td>Blue</td>\n",
       "      <td>34</td>\n",
       "      <td>...</td>\n",
       "      <td>4</td>\n",
       "      <td>1</td>\n",
       "      <td>3313.0</td>\n",
       "      <td>2517</td>\n",
       "      <td>796.0</td>\n",
       "      <td>1.405</td>\n",
       "      <td>1171</td>\n",
       "      <td>20</td>\n",
       "      <td>2.333</td>\n",
       "      <td>0.760</td>\n",
       "    </tr>\n",
       "    <tr>\n",
       "      <th>4</th>\n",
       "      <td>709106358</td>\n",
       "      <td>Existing Customer</td>\n",
       "      <td>40</td>\n",
       "      <td>M</td>\n",
       "      <td>3</td>\n",
       "      <td>Uneducated</td>\n",
       "      <td>Married</td>\n",
       "      <td>$60K - $80K</td>\n",
       "      <td>Blue</td>\n",
       "      <td>21</td>\n",
       "      <td>...</td>\n",
       "      <td>1</td>\n",
       "      <td>0</td>\n",
       "      <td>4716.0</td>\n",
       "      <td>0</td>\n",
       "      <td>4716.0</td>\n",
       "      <td>2.175</td>\n",
       "      <td>816</td>\n",
       "      <td>28</td>\n",
       "      <td>2.500</td>\n",
       "      <td>0.000</td>\n",
       "    </tr>\n",
       "  </tbody>\n",
       "</table>\n",
       "<p>5 rows × 21 columns</p>\n",
       "</div>"
      ],
      "text/plain": [
       "   client_num     attrition_flag  customer_age gender  dependent_count  \\\n",
       "0   768805383  Existing Customer            45      M                3   \n",
       "1   818770008  Existing Customer            49      F                5   \n",
       "2   713982108  Existing Customer            51      M                3   \n",
       "3   769911858  Existing Customer            40      F                4   \n",
       "4   709106358  Existing Customer            40      M                3   \n",
       "\n",
       "  education_level marital_status income_category card_category  \\\n",
       "0     High School        Married     $60K - $80K          Blue   \n",
       "1        Graduate         Single  Less than $40K          Blue   \n",
       "2        Graduate        Married    $80K - $120K          Blue   \n",
       "3     High School        Unknown  Less than $40K          Blue   \n",
       "4      Uneducated        Married     $60K - $80K          Blue   \n",
       "\n",
       "   months_on_book  ...  months_inactive_12_mon  contacts_count_12_mon  \\\n",
       "0              39  ...                       1                      3   \n",
       "1              44  ...                       1                      2   \n",
       "2              36  ...                       1                      0   \n",
       "3              34  ...                       4                      1   \n",
       "4              21  ...                       1                      0   \n",
       "\n",
       "   credit_limit  total_revolving_bal  avg_open_to_buy  total_amt_chng_q4_q1  \\\n",
       "0       12691.0                  777          11914.0                 1.335   \n",
       "1        8256.0                  864           7392.0                 1.541   \n",
       "2        3418.0                    0           3418.0                 2.594   \n",
       "3        3313.0                 2517            796.0                 1.405   \n",
       "4        4716.0                    0           4716.0                 2.175   \n",
       "\n",
       "   total_trans_amt  total_trans_ct  total_ct_chng_q4_q1  avg_utilization_ratio  \n",
       "0             1144              42                1.625                  0.061  \n",
       "1             1291              33                3.714                  0.105  \n",
       "2             1887              20                2.333                  0.000  \n",
       "3             1171              20                2.333                  0.760  \n",
       "4              816              28                2.500                  0.000  \n",
       "\n",
       "[5 rows x 21 columns]"
      ]
     },
     "execution_count": 774,
     "metadata": {},
     "output_type": "execute_result"
    }
   ],
   "source": [
    "data.head()"
   ]
  },
  {
   "attachments": {},
   "cell_type": "markdown",
   "metadata": {},
   "source": [
    "## 2.1 Exploratory Data Analysis"
   ]
  },
  {
   "attachments": {},
   "cell_type": "markdown",
   "metadata": {},
   "source": [
    "Checking shape of the dataset."
   ]
  },
  {
   "cell_type": "code",
   "execution_count": 775,
   "metadata": {},
   "outputs": [
    {
     "name": "stdout",
     "output_type": "stream",
     "text": [
      "Length of Dataset:  10127\n",
      "Number of Attributes:  21\n"
     ]
    }
   ],
   "source": [
    "# Checking Shape of the dataset.\n",
    "print('Length of Dataset: ', data.shape[0])\n",
    "print('Number of Attributes: ', data.shape[1])"
   ]
  },
  {
   "attachments": {},
   "cell_type": "markdown",
   "metadata": {},
   "source": [
    "### 2.1.1 Computing Descriptive Statistics of data"
   ]
  },
  {
   "attachments": {},
   "cell_type": "markdown",
   "metadata": {},
   "source": [
    "Calculate descriptive statistics for all numeric features of the dataset."
   ]
  },
  {
   "cell_type": "code",
   "execution_count": 776,
   "metadata": {},
   "outputs": [
    {
     "data": {
      "text/html": [
       "<div>\n",
       "<style scoped>\n",
       "    .dataframe tbody tr th:only-of-type {\n",
       "        vertical-align: middle;\n",
       "    }\n",
       "\n",
       "    .dataframe tbody tr th {\n",
       "        vertical-align: top;\n",
       "    }\n",
       "\n",
       "    .dataframe thead th {\n",
       "        text-align: right;\n",
       "    }\n",
       "</style>\n",
       "<table border=\"1\" class=\"dataframe\">\n",
       "  <thead>\n",
       "    <tr style=\"text-align: right;\">\n",
       "      <th></th>\n",
       "      <th>client_num</th>\n",
       "      <th>customer_age</th>\n",
       "      <th>dependent_count</th>\n",
       "      <th>months_on_book</th>\n",
       "      <th>total_relationship_count</th>\n",
       "      <th>months_inactive_12_mon</th>\n",
       "      <th>contacts_count_12_mon</th>\n",
       "      <th>credit_limit</th>\n",
       "      <th>total_revolving_bal</th>\n",
       "      <th>avg_open_to_buy</th>\n",
       "      <th>total_amt_chng_q4_q1</th>\n",
       "      <th>total_trans_amt</th>\n",
       "      <th>total_trans_ct</th>\n",
       "      <th>total_ct_chng_q4_q1</th>\n",
       "      <th>avg_utilization_ratio</th>\n",
       "    </tr>\n",
       "  </thead>\n",
       "  <tbody>\n",
       "    <tr>\n",
       "      <th>count</th>\n",
       "      <td>1.012700e+04</td>\n",
       "      <td>10127.000000</td>\n",
       "      <td>10127.000000</td>\n",
       "      <td>10127.000000</td>\n",
       "      <td>10127.000000</td>\n",
       "      <td>10127.000000</td>\n",
       "      <td>10127.000000</td>\n",
       "      <td>10127.000000</td>\n",
       "      <td>10127.000000</td>\n",
       "      <td>10127.000000</td>\n",
       "      <td>10127.000000</td>\n",
       "      <td>10127.000000</td>\n",
       "      <td>10127.000000</td>\n",
       "      <td>10127.000000</td>\n",
       "      <td>10127.000000</td>\n",
       "    </tr>\n",
       "    <tr>\n",
       "      <th>mean</th>\n",
       "      <td>7.391776e+08</td>\n",
       "      <td>46.325960</td>\n",
       "      <td>2.346203</td>\n",
       "      <td>35.928409</td>\n",
       "      <td>3.812580</td>\n",
       "      <td>2.341167</td>\n",
       "      <td>2.455317</td>\n",
       "      <td>8631.953698</td>\n",
       "      <td>1162.814061</td>\n",
       "      <td>7469.139637</td>\n",
       "      <td>0.759941</td>\n",
       "      <td>4404.086304</td>\n",
       "      <td>64.858695</td>\n",
       "      <td>0.712222</td>\n",
       "      <td>0.274894</td>\n",
       "    </tr>\n",
       "    <tr>\n",
       "      <th>std</th>\n",
       "      <td>3.690378e+07</td>\n",
       "      <td>8.016814</td>\n",
       "      <td>1.298908</td>\n",
       "      <td>7.986416</td>\n",
       "      <td>1.554408</td>\n",
       "      <td>1.010622</td>\n",
       "      <td>1.106225</td>\n",
       "      <td>9088.776650</td>\n",
       "      <td>814.987335</td>\n",
       "      <td>9090.685324</td>\n",
       "      <td>0.219207</td>\n",
       "      <td>3397.129254</td>\n",
       "      <td>23.472570</td>\n",
       "      <td>0.238086</td>\n",
       "      <td>0.275691</td>\n",
       "    </tr>\n",
       "    <tr>\n",
       "      <th>min</th>\n",
       "      <td>7.080821e+08</td>\n",
       "      <td>26.000000</td>\n",
       "      <td>0.000000</td>\n",
       "      <td>13.000000</td>\n",
       "      <td>1.000000</td>\n",
       "      <td>0.000000</td>\n",
       "      <td>0.000000</td>\n",
       "      <td>1438.300000</td>\n",
       "      <td>0.000000</td>\n",
       "      <td>3.000000</td>\n",
       "      <td>0.000000</td>\n",
       "      <td>510.000000</td>\n",
       "      <td>10.000000</td>\n",
       "      <td>0.000000</td>\n",
       "      <td>0.000000</td>\n",
       "    </tr>\n",
       "    <tr>\n",
       "      <th>25%</th>\n",
       "      <td>7.130368e+08</td>\n",
       "      <td>41.000000</td>\n",
       "      <td>1.000000</td>\n",
       "      <td>31.000000</td>\n",
       "      <td>3.000000</td>\n",
       "      <td>2.000000</td>\n",
       "      <td>2.000000</td>\n",
       "      <td>2555.000000</td>\n",
       "      <td>359.000000</td>\n",
       "      <td>1324.500000</td>\n",
       "      <td>0.631000</td>\n",
       "      <td>2155.500000</td>\n",
       "      <td>45.000000</td>\n",
       "      <td>0.582000</td>\n",
       "      <td>0.023000</td>\n",
       "    </tr>\n",
       "    <tr>\n",
       "      <th>50%</th>\n",
       "      <td>7.179264e+08</td>\n",
       "      <td>46.000000</td>\n",
       "      <td>2.000000</td>\n",
       "      <td>36.000000</td>\n",
       "      <td>4.000000</td>\n",
       "      <td>2.000000</td>\n",
       "      <td>2.000000</td>\n",
       "      <td>4549.000000</td>\n",
       "      <td>1276.000000</td>\n",
       "      <td>3474.000000</td>\n",
       "      <td>0.736000</td>\n",
       "      <td>3899.000000</td>\n",
       "      <td>67.000000</td>\n",
       "      <td>0.702000</td>\n",
       "      <td>0.176000</td>\n",
       "    </tr>\n",
       "    <tr>\n",
       "      <th>75%</th>\n",
       "      <td>7.731435e+08</td>\n",
       "      <td>52.000000</td>\n",
       "      <td>3.000000</td>\n",
       "      <td>40.000000</td>\n",
       "      <td>5.000000</td>\n",
       "      <td>3.000000</td>\n",
       "      <td>3.000000</td>\n",
       "      <td>11067.500000</td>\n",
       "      <td>1784.000000</td>\n",
       "      <td>9859.000000</td>\n",
       "      <td>0.859000</td>\n",
       "      <td>4741.000000</td>\n",
       "      <td>81.000000</td>\n",
       "      <td>0.818000</td>\n",
       "      <td>0.503000</td>\n",
       "    </tr>\n",
       "    <tr>\n",
       "      <th>max</th>\n",
       "      <td>8.283431e+08</td>\n",
       "      <td>73.000000</td>\n",
       "      <td>5.000000</td>\n",
       "      <td>56.000000</td>\n",
       "      <td>6.000000</td>\n",
       "      <td>6.000000</td>\n",
       "      <td>6.000000</td>\n",
       "      <td>34516.000000</td>\n",
       "      <td>2517.000000</td>\n",
       "      <td>34516.000000</td>\n",
       "      <td>3.397000</td>\n",
       "      <td>18484.000000</td>\n",
       "      <td>139.000000</td>\n",
       "      <td>3.714000</td>\n",
       "      <td>0.999000</td>\n",
       "    </tr>\n",
       "  </tbody>\n",
       "</table>\n",
       "</div>"
      ],
      "text/plain": [
       "         client_num  customer_age  dependent_count  months_on_book  \\\n",
       "count  1.012700e+04  10127.000000     10127.000000    10127.000000   \n",
       "mean   7.391776e+08     46.325960         2.346203       35.928409   \n",
       "std    3.690378e+07      8.016814         1.298908        7.986416   \n",
       "min    7.080821e+08     26.000000         0.000000       13.000000   \n",
       "25%    7.130368e+08     41.000000         1.000000       31.000000   \n",
       "50%    7.179264e+08     46.000000         2.000000       36.000000   \n",
       "75%    7.731435e+08     52.000000         3.000000       40.000000   \n",
       "max    8.283431e+08     73.000000         5.000000       56.000000   \n",
       "\n",
       "       total_relationship_count  months_inactive_12_mon  \\\n",
       "count              10127.000000            10127.000000   \n",
       "mean                   3.812580                2.341167   \n",
       "std                    1.554408                1.010622   \n",
       "min                    1.000000                0.000000   \n",
       "25%                    3.000000                2.000000   \n",
       "50%                    4.000000                2.000000   \n",
       "75%                    5.000000                3.000000   \n",
       "max                    6.000000                6.000000   \n",
       "\n",
       "       contacts_count_12_mon  credit_limit  total_revolving_bal  \\\n",
       "count           10127.000000  10127.000000         10127.000000   \n",
       "mean                2.455317   8631.953698          1162.814061   \n",
       "std                 1.106225   9088.776650           814.987335   \n",
       "min                 0.000000   1438.300000             0.000000   \n",
       "25%                 2.000000   2555.000000           359.000000   \n",
       "50%                 2.000000   4549.000000          1276.000000   \n",
       "75%                 3.000000  11067.500000          1784.000000   \n",
       "max                 6.000000  34516.000000          2517.000000   \n",
       "\n",
       "       avg_open_to_buy  total_amt_chng_q4_q1  total_trans_amt  total_trans_ct  \\\n",
       "count     10127.000000          10127.000000     10127.000000    10127.000000   \n",
       "mean       7469.139637              0.759941      4404.086304       64.858695   \n",
       "std        9090.685324              0.219207      3397.129254       23.472570   \n",
       "min           3.000000              0.000000       510.000000       10.000000   \n",
       "25%        1324.500000              0.631000      2155.500000       45.000000   \n",
       "50%        3474.000000              0.736000      3899.000000       67.000000   \n",
       "75%        9859.000000              0.859000      4741.000000       81.000000   \n",
       "max       34516.000000              3.397000     18484.000000      139.000000   \n",
       "\n",
       "       total_ct_chng_q4_q1  avg_utilization_ratio  \n",
       "count         10127.000000           10127.000000  \n",
       "mean              0.712222               0.274894  \n",
       "std               0.238086               0.275691  \n",
       "min               0.000000               0.000000  \n",
       "25%               0.582000               0.023000  \n",
       "50%               0.702000               0.176000  \n",
       "75%               0.818000               0.503000  \n",
       "max               3.714000               0.999000  "
      ]
     },
     "execution_count": 776,
     "metadata": {},
     "output_type": "execute_result"
    }
   ],
   "source": [
    "data.describe()"
   ]
  },
  {
   "attachments": {},
   "cell_type": "markdown",
   "metadata": {},
   "source": [
    "#### 2.1.2 Compare the descriptive statistics of arited and existing customers"
   ]
  },
  {
   "attachments": {},
   "cell_type": "markdown",
   "metadata": {},
   "source": [
    "Creating datasets for existing and attrited customers. so that we can compute the statistics of them separately."
   ]
  },
  {
   "cell_type": "code",
   "execution_count": 777,
   "metadata": {},
   "outputs": [],
   "source": [
    "existing_customer_data = data[data[\"attrition_flag\"] == \"Existing Customer\"]\n",
    "attrtited_customer_data = data[data[\"attrition_flag\"] == \"Attrited Customer\"]"
   ]
  },
  {
   "cell_type": "code",
   "execution_count": 778,
   "metadata": {},
   "outputs": [
    {
     "data": {
      "text/html": [
       "<div>\n",
       "<style scoped>\n",
       "    .dataframe tbody tr th:only-of-type {\n",
       "        vertical-align: middle;\n",
       "    }\n",
       "\n",
       "    .dataframe tbody tr th {\n",
       "        vertical-align: top;\n",
       "    }\n",
       "\n",
       "    .dataframe thead th {\n",
       "        text-align: right;\n",
       "    }\n",
       "</style>\n",
       "<table border=\"1\" class=\"dataframe\">\n",
       "  <thead>\n",
       "    <tr style=\"text-align: right;\">\n",
       "      <th></th>\n",
       "      <th>client_num</th>\n",
       "      <th>customer_age</th>\n",
       "      <th>dependent_count</th>\n",
       "      <th>months_on_book</th>\n",
       "      <th>total_relationship_count</th>\n",
       "      <th>months_inactive_12_mon</th>\n",
       "      <th>contacts_count_12_mon</th>\n",
       "      <th>credit_limit</th>\n",
       "      <th>total_revolving_bal</th>\n",
       "      <th>avg_open_to_buy</th>\n",
       "      <th>total_amt_chng_q4_q1</th>\n",
       "      <th>total_trans_amt</th>\n",
       "      <th>total_trans_ct</th>\n",
       "      <th>total_ct_chng_q4_q1</th>\n",
       "      <th>avg_utilization_ratio</th>\n",
       "    </tr>\n",
       "  </thead>\n",
       "  <tbody>\n",
       "    <tr>\n",
       "      <th>count</th>\n",
       "      <td>8.500000e+03</td>\n",
       "      <td>8500.000000</td>\n",
       "      <td>8500.000000</td>\n",
       "      <td>8500.000000</td>\n",
       "      <td>8500.000000</td>\n",
       "      <td>8500.000000</td>\n",
       "      <td>8500.000000</td>\n",
       "      <td>8500.000000</td>\n",
       "      <td>8500.000000</td>\n",
       "      <td>8500.000000</td>\n",
       "      <td>8500.000000</td>\n",
       "      <td>8500.000000</td>\n",
       "      <td>8500.000000</td>\n",
       "      <td>8500.000000</td>\n",
       "      <td>8500.000000</td>\n",
       "    </tr>\n",
       "    <tr>\n",
       "      <th>mean</th>\n",
       "      <td>7.399272e+08</td>\n",
       "      <td>46.262118</td>\n",
       "      <td>2.335412</td>\n",
       "      <td>35.880588</td>\n",
       "      <td>3.914588</td>\n",
       "      <td>2.273765</td>\n",
       "      <td>2.356353</td>\n",
       "      <td>8726.877518</td>\n",
       "      <td>1256.604118</td>\n",
       "      <td>7470.273400</td>\n",
       "      <td>0.772510</td>\n",
       "      <td>4654.655882</td>\n",
       "      <td>68.672588</td>\n",
       "      <td>0.742434</td>\n",
       "      <td>0.296412</td>\n",
       "    </tr>\n",
       "    <tr>\n",
       "      <th>std</th>\n",
       "      <td>3.710723e+07</td>\n",
       "      <td>8.081157</td>\n",
       "      <td>1.303229</td>\n",
       "      <td>8.021810</td>\n",
       "      <td>1.528949</td>\n",
       "      <td>1.016741</td>\n",
       "      <td>1.081436</td>\n",
       "      <td>9084.969807</td>\n",
       "      <td>757.745354</td>\n",
       "      <td>9087.671862</td>\n",
       "      <td>0.217783</td>\n",
       "      <td>3512.772635</td>\n",
       "      <td>22.919011</td>\n",
       "      <td>0.228054</td>\n",
       "      <td>0.272568</td>\n",
       "    </tr>\n",
       "    <tr>\n",
       "      <th>min</th>\n",
       "      <td>7.080821e+08</td>\n",
       "      <td>26.000000</td>\n",
       "      <td>0.000000</td>\n",
       "      <td>13.000000</td>\n",
       "      <td>1.000000</td>\n",
       "      <td>0.000000</td>\n",
       "      <td>0.000000</td>\n",
       "      <td>1438.300000</td>\n",
       "      <td>0.000000</td>\n",
       "      <td>15.000000</td>\n",
       "      <td>0.256000</td>\n",
       "      <td>816.000000</td>\n",
       "      <td>11.000000</td>\n",
       "      <td>0.028000</td>\n",
       "      <td>0.000000</td>\n",
       "    </tr>\n",
       "    <tr>\n",
       "      <th>25%</th>\n",
       "      <td>7.132197e+08</td>\n",
       "      <td>41.000000</td>\n",
       "      <td>1.000000</td>\n",
       "      <td>31.000000</td>\n",
       "      <td>3.000000</td>\n",
       "      <td>1.000000</td>\n",
       "      <td>2.000000</td>\n",
       "      <td>2602.000000</td>\n",
       "      <td>800.000000</td>\n",
       "      <td>1184.500000</td>\n",
       "      <td>0.643000</td>\n",
       "      <td>2384.750000</td>\n",
       "      <td>54.000000</td>\n",
       "      <td>0.617000</td>\n",
       "      <td>0.055000</td>\n",
       "    </tr>\n",
       "    <tr>\n",
       "      <th>50%</th>\n",
       "      <td>7.181643e+08</td>\n",
       "      <td>46.000000</td>\n",
       "      <td>2.000000</td>\n",
       "      <td>36.000000</td>\n",
       "      <td>4.000000</td>\n",
       "      <td>2.000000</td>\n",
       "      <td>2.000000</td>\n",
       "      <td>4643.500000</td>\n",
       "      <td>1364.000000</td>\n",
       "      <td>3469.500000</td>\n",
       "      <td>0.743000</td>\n",
       "      <td>4100.000000</td>\n",
       "      <td>71.000000</td>\n",
       "      <td>0.721000</td>\n",
       "      <td>0.211000</td>\n",
       "    </tr>\n",
       "    <tr>\n",
       "      <th>75%</th>\n",
       "      <td>7.783415e+08</td>\n",
       "      <td>52.000000</td>\n",
       "      <td>3.000000</td>\n",
       "      <td>40.000000</td>\n",
       "      <td>5.000000</td>\n",
       "      <td>3.000000</td>\n",
       "      <td>3.000000</td>\n",
       "      <td>11252.750000</td>\n",
       "      <td>1807.000000</td>\n",
       "      <td>9978.250000</td>\n",
       "      <td>0.860000</td>\n",
       "      <td>4781.250000</td>\n",
       "      <td>82.000000</td>\n",
       "      <td>0.833000</td>\n",
       "      <td>0.529250</td>\n",
       "    </tr>\n",
       "    <tr>\n",
       "      <th>max</th>\n",
       "      <td>8.283431e+08</td>\n",
       "      <td>73.000000</td>\n",
       "      <td>5.000000</td>\n",
       "      <td>56.000000</td>\n",
       "      <td>6.000000</td>\n",
       "      <td>6.000000</td>\n",
       "      <td>5.000000</td>\n",
       "      <td>34516.000000</td>\n",
       "      <td>2517.000000</td>\n",
       "      <td>34516.000000</td>\n",
       "      <td>3.397000</td>\n",
       "      <td>18484.000000</td>\n",
       "      <td>139.000000</td>\n",
       "      <td>3.714000</td>\n",
       "      <td>0.994000</td>\n",
       "    </tr>\n",
       "  </tbody>\n",
       "</table>\n",
       "</div>"
      ],
      "text/plain": [
       "         client_num  customer_age  dependent_count  months_on_book  \\\n",
       "count  8.500000e+03   8500.000000      8500.000000     8500.000000   \n",
       "mean   7.399272e+08     46.262118         2.335412       35.880588   \n",
       "std    3.710723e+07      8.081157         1.303229        8.021810   \n",
       "min    7.080821e+08     26.000000         0.000000       13.000000   \n",
       "25%    7.132197e+08     41.000000         1.000000       31.000000   \n",
       "50%    7.181643e+08     46.000000         2.000000       36.000000   \n",
       "75%    7.783415e+08     52.000000         3.000000       40.000000   \n",
       "max    8.283431e+08     73.000000         5.000000       56.000000   \n",
       "\n",
       "       total_relationship_count  months_inactive_12_mon  \\\n",
       "count               8500.000000             8500.000000   \n",
       "mean                   3.914588                2.273765   \n",
       "std                    1.528949                1.016741   \n",
       "min                    1.000000                0.000000   \n",
       "25%                    3.000000                1.000000   \n",
       "50%                    4.000000                2.000000   \n",
       "75%                    5.000000                3.000000   \n",
       "max                    6.000000                6.000000   \n",
       "\n",
       "       contacts_count_12_mon  credit_limit  total_revolving_bal  \\\n",
       "count            8500.000000   8500.000000          8500.000000   \n",
       "mean                2.356353   8726.877518          1256.604118   \n",
       "std                 1.081436   9084.969807           757.745354   \n",
       "min                 0.000000   1438.300000             0.000000   \n",
       "25%                 2.000000   2602.000000           800.000000   \n",
       "50%                 2.000000   4643.500000          1364.000000   \n",
       "75%                 3.000000  11252.750000          1807.000000   \n",
       "max                 5.000000  34516.000000          2517.000000   \n",
       "\n",
       "       avg_open_to_buy  total_amt_chng_q4_q1  total_trans_amt  total_trans_ct  \\\n",
       "count      8500.000000           8500.000000      8500.000000     8500.000000   \n",
       "mean       7470.273400              0.772510      4654.655882       68.672588   \n",
       "std        9087.671862              0.217783      3512.772635       22.919011   \n",
       "min          15.000000              0.256000       816.000000       11.000000   \n",
       "25%        1184.500000              0.643000      2384.750000       54.000000   \n",
       "50%        3469.500000              0.743000      4100.000000       71.000000   \n",
       "75%        9978.250000              0.860000      4781.250000       82.000000   \n",
       "max       34516.000000              3.397000     18484.000000      139.000000   \n",
       "\n",
       "       total_ct_chng_q4_q1  avg_utilization_ratio  \n",
       "count          8500.000000            8500.000000  \n",
       "mean              0.742434               0.296412  \n",
       "std               0.228054               0.272568  \n",
       "min               0.028000               0.000000  \n",
       "25%               0.617000               0.055000  \n",
       "50%               0.721000               0.211000  \n",
       "75%               0.833000               0.529250  \n",
       "max               3.714000               0.994000  "
      ]
     },
     "execution_count": 778,
     "metadata": {},
     "output_type": "execute_result"
    }
   ],
   "source": [
    "existing_customer_data.describe()"
   ]
  },
  {
   "attachments": {},
   "cell_type": "markdown",
   "metadata": {},
   "source": [
    "Count of existing customers are 8500 as the cunt of attrited customers are 1627."
   ]
  },
  {
   "attachments": {},
   "cell_type": "markdown",
   "metadata": {},
   "source": [
    "Mean Age of both existing and attrited customers are sameas 46. Max age of the attrited customer is 68 and max age of existing customer is 72 whereas min age of both are same as 26."
   ]
  },
  {
   "cell_type": "code",
   "execution_count": 779,
   "metadata": {},
   "outputs": [
    {
     "data": {
      "text/html": [
       "<div>\n",
       "<style scoped>\n",
       "    .dataframe tbody tr th:only-of-type {\n",
       "        vertical-align: middle;\n",
       "    }\n",
       "\n",
       "    .dataframe tbody tr th {\n",
       "        vertical-align: top;\n",
       "    }\n",
       "\n",
       "    .dataframe thead th {\n",
       "        text-align: right;\n",
       "    }\n",
       "</style>\n",
       "<table border=\"1\" class=\"dataframe\">\n",
       "  <thead>\n",
       "    <tr style=\"text-align: right;\">\n",
       "      <th></th>\n",
       "      <th>client_num</th>\n",
       "      <th>customer_age</th>\n",
       "      <th>dependent_count</th>\n",
       "      <th>months_on_book</th>\n",
       "      <th>total_relationship_count</th>\n",
       "      <th>months_inactive_12_mon</th>\n",
       "      <th>contacts_count_12_mon</th>\n",
       "      <th>credit_limit</th>\n",
       "      <th>total_revolving_bal</th>\n",
       "      <th>avg_open_to_buy</th>\n",
       "      <th>total_amt_chng_q4_q1</th>\n",
       "      <th>total_trans_amt</th>\n",
       "      <th>total_trans_ct</th>\n",
       "      <th>total_ct_chng_q4_q1</th>\n",
       "      <th>avg_utilization_ratio</th>\n",
       "    </tr>\n",
       "  </thead>\n",
       "  <tbody>\n",
       "    <tr>\n",
       "      <th>count</th>\n",
       "      <td>1.627000e+03</td>\n",
       "      <td>1627.000000</td>\n",
       "      <td>1627.000000</td>\n",
       "      <td>1627.000000</td>\n",
       "      <td>1627.000000</td>\n",
       "      <td>1627.000000</td>\n",
       "      <td>1627.000000</td>\n",
       "      <td>1627.000000</td>\n",
       "      <td>1627.000000</td>\n",
       "      <td>1627.000000</td>\n",
       "      <td>1627.000000</td>\n",
       "      <td>1627.000000</td>\n",
       "      <td>1627.000000</td>\n",
       "      <td>1627.000000</td>\n",
       "      <td>1627.000000</td>\n",
       "    </tr>\n",
       "    <tr>\n",
       "      <th>mean</th>\n",
       "      <td>7.352614e+08</td>\n",
       "      <td>46.659496</td>\n",
       "      <td>2.402581</td>\n",
       "      <td>36.178242</td>\n",
       "      <td>3.279656</td>\n",
       "      <td>2.693301</td>\n",
       "      <td>2.972342</td>\n",
       "      <td>8136.039459</td>\n",
       "      <td>672.822987</td>\n",
       "      <td>7463.216472</td>\n",
       "      <td>0.694277</td>\n",
       "      <td>3095.025814</td>\n",
       "      <td>44.933620</td>\n",
       "      <td>0.554386</td>\n",
       "      <td>0.162475</td>\n",
       "    </tr>\n",
       "    <tr>\n",
       "      <th>std</th>\n",
       "      <td>3.557725e+07</td>\n",
       "      <td>7.665652</td>\n",
       "      <td>1.275010</td>\n",
       "      <td>7.796548</td>\n",
       "      <td>1.577782</td>\n",
       "      <td>0.899623</td>\n",
       "      <td>1.090537</td>\n",
       "      <td>9095.334105</td>\n",
       "      <td>921.385582</td>\n",
       "      <td>9109.208129</td>\n",
       "      <td>0.214924</td>\n",
       "      <td>2308.227629</td>\n",
       "      <td>14.568429</td>\n",
       "      <td>0.226854</td>\n",
       "      <td>0.264458</td>\n",
       "    </tr>\n",
       "    <tr>\n",
       "      <th>min</th>\n",
       "      <td>7.080833e+08</td>\n",
       "      <td>26.000000</td>\n",
       "      <td>0.000000</td>\n",
       "      <td>13.000000</td>\n",
       "      <td>1.000000</td>\n",
       "      <td>0.000000</td>\n",
       "      <td>0.000000</td>\n",
       "      <td>1438.300000</td>\n",
       "      <td>0.000000</td>\n",
       "      <td>3.000000</td>\n",
       "      <td>0.000000</td>\n",
       "      <td>510.000000</td>\n",
       "      <td>10.000000</td>\n",
       "      <td>0.000000</td>\n",
       "      <td>0.000000</td>\n",
       "    </tr>\n",
       "    <tr>\n",
       "      <th>25%</th>\n",
       "      <td>7.123713e+08</td>\n",
       "      <td>41.000000</td>\n",
       "      <td>2.000000</td>\n",
       "      <td>32.000000</td>\n",
       "      <td>2.000000</td>\n",
       "      <td>2.000000</td>\n",
       "      <td>2.000000</td>\n",
       "      <td>2114.000000</td>\n",
       "      <td>0.000000</td>\n",
       "      <td>1587.000000</td>\n",
       "      <td>0.544500</td>\n",
       "      <td>1903.500000</td>\n",
       "      <td>37.000000</td>\n",
       "      <td>0.400000</td>\n",
       "      <td>0.000000</td>\n",
       "    </tr>\n",
       "    <tr>\n",
       "      <th>50%</th>\n",
       "      <td>7.165644e+08</td>\n",
       "      <td>47.000000</td>\n",
       "      <td>2.000000</td>\n",
       "      <td>36.000000</td>\n",
       "      <td>3.000000</td>\n",
       "      <td>3.000000</td>\n",
       "      <td>3.000000</td>\n",
       "      <td>4178.000000</td>\n",
       "      <td>0.000000</td>\n",
       "      <td>3488.000000</td>\n",
       "      <td>0.701000</td>\n",
       "      <td>2329.000000</td>\n",
       "      <td>43.000000</td>\n",
       "      <td>0.531000</td>\n",
       "      <td>0.000000</td>\n",
       "    </tr>\n",
       "    <tr>\n",
       "      <th>75%</th>\n",
       "      <td>7.683737e+08</td>\n",
       "      <td>52.000000</td>\n",
       "      <td>3.000000</td>\n",
       "      <td>40.000000</td>\n",
       "      <td>5.000000</td>\n",
       "      <td>3.000000</td>\n",
       "      <td>4.000000</td>\n",
       "      <td>9933.500000</td>\n",
       "      <td>1303.500000</td>\n",
       "      <td>9257.500000</td>\n",
       "      <td>0.856000</td>\n",
       "      <td>2772.000000</td>\n",
       "      <td>51.000000</td>\n",
       "      <td>0.692000</td>\n",
       "      <td>0.231000</td>\n",
       "    </tr>\n",
       "    <tr>\n",
       "      <th>max</th>\n",
       "      <td>8.282949e+08</td>\n",
       "      <td>68.000000</td>\n",
       "      <td>5.000000</td>\n",
       "      <td>56.000000</td>\n",
       "      <td>6.000000</td>\n",
       "      <td>6.000000</td>\n",
       "      <td>6.000000</td>\n",
       "      <td>34516.000000</td>\n",
       "      <td>2517.000000</td>\n",
       "      <td>34516.000000</td>\n",
       "      <td>1.492000</td>\n",
       "      <td>10583.000000</td>\n",
       "      <td>94.000000</td>\n",
       "      <td>2.500000</td>\n",
       "      <td>0.999000</td>\n",
       "    </tr>\n",
       "  </tbody>\n",
       "</table>\n",
       "</div>"
      ],
      "text/plain": [
       "         client_num  customer_age  dependent_count  months_on_book  \\\n",
       "count  1.627000e+03   1627.000000      1627.000000     1627.000000   \n",
       "mean   7.352614e+08     46.659496         2.402581       36.178242   \n",
       "std    3.557725e+07      7.665652         1.275010        7.796548   \n",
       "min    7.080833e+08     26.000000         0.000000       13.000000   \n",
       "25%    7.123713e+08     41.000000         2.000000       32.000000   \n",
       "50%    7.165644e+08     47.000000         2.000000       36.000000   \n",
       "75%    7.683737e+08     52.000000         3.000000       40.000000   \n",
       "max    8.282949e+08     68.000000         5.000000       56.000000   \n",
       "\n",
       "       total_relationship_count  months_inactive_12_mon  \\\n",
       "count               1627.000000             1627.000000   \n",
       "mean                   3.279656                2.693301   \n",
       "std                    1.577782                0.899623   \n",
       "min                    1.000000                0.000000   \n",
       "25%                    2.000000                2.000000   \n",
       "50%                    3.000000                3.000000   \n",
       "75%                    5.000000                3.000000   \n",
       "max                    6.000000                6.000000   \n",
       "\n",
       "       contacts_count_12_mon  credit_limit  total_revolving_bal  \\\n",
       "count            1627.000000   1627.000000          1627.000000   \n",
       "mean                2.972342   8136.039459           672.822987   \n",
       "std                 1.090537   9095.334105           921.385582   \n",
       "min                 0.000000   1438.300000             0.000000   \n",
       "25%                 2.000000   2114.000000             0.000000   \n",
       "50%                 3.000000   4178.000000             0.000000   \n",
       "75%                 4.000000   9933.500000          1303.500000   \n",
       "max                 6.000000  34516.000000          2517.000000   \n",
       "\n",
       "       avg_open_to_buy  total_amt_chng_q4_q1  total_trans_amt  total_trans_ct  \\\n",
       "count      1627.000000           1627.000000      1627.000000     1627.000000   \n",
       "mean       7463.216472              0.694277      3095.025814       44.933620   \n",
       "std        9109.208129              0.214924      2308.227629       14.568429   \n",
       "min           3.000000              0.000000       510.000000       10.000000   \n",
       "25%        1587.000000              0.544500      1903.500000       37.000000   \n",
       "50%        3488.000000              0.701000      2329.000000       43.000000   \n",
       "75%        9257.500000              0.856000      2772.000000       51.000000   \n",
       "max       34516.000000              1.492000     10583.000000       94.000000   \n",
       "\n",
       "       total_ct_chng_q4_q1  avg_utilization_ratio  \n",
       "count          1627.000000            1627.000000  \n",
       "mean              0.554386               0.162475  \n",
       "std               0.226854               0.264458  \n",
       "min               0.000000               0.000000  \n",
       "25%               0.400000               0.000000  \n",
       "50%               0.531000               0.000000  \n",
       "75%               0.692000               0.231000  \n",
       "max               2.500000               0.999000  "
      ]
     },
     "execution_count": 779,
     "metadata": {},
     "output_type": "execute_result"
    }
   ],
   "source": [
    "attrtited_customer_data.describe()"
   ]
  },
  {
   "attachments": {},
   "cell_type": "markdown",
   "metadata": {},
   "source": [
    "#### 2.1.3 Computing Distribution of Categorical Columns"
   ]
  },
  {
   "attachments": {},
   "cell_type": "markdown",
   "metadata": {},
   "source": [
    "Calculating the distribution of our target variable \"Attrittion Flag\""
   ]
  },
  {
   "cell_type": "code",
   "execution_count": 780,
   "metadata": {},
   "outputs": [
    {
     "data": {
      "text/plain": [
       "Existing Customer    8500\n",
       "Attrited Customer    1627\n",
       "Name: attrition_flag, dtype: int64"
      ]
     },
     "execution_count": 780,
     "metadata": {},
     "output_type": "execute_result"
    }
   ],
   "source": [
    "# Counting Number of Target.\n",
    "dictribution = data[\"attrition_flag\"].value_counts()\n",
    "dictribution"
   ]
  },
  {
   "attachments": {},
   "cell_type": "markdown",
   "metadata": {},
   "source": [
    "We can see that our data is imbalanced as the existing customer count is more as compare to the attrited customer count. So its a imbalanced class problem."
   ]
  },
  {
   "cell_type": "code",
   "execution_count": 781,
   "metadata": {},
   "outputs": [
    {
     "data": {
      "image/png": "[encoded data removed]",
      "text/plain": [
       "<Figure size 432x288 with 1 Axes>"
      ]
     },
     "metadata": {
      "needs_background": "light"
     },
     "output_type": "display_data"
    }
   ],
   "source": [
    "ax = (data['attrition_flag'].value_counts()*100.0 /len(data)).plot(kind='bar', stacked = True,rot = 0)\n",
    "ax.set_ylabel('% Count')\n",
    "ax.set_xlabel('attrition_flag')\n",
    "ax.set_ylabel('% Count')\n",
    "ax.set_title('attrition flag Distribution')\n",
    "\n",
    "# create a list to collect the plt.patches data\n",
    "totals = []\n",
    "\n",
    "# find the values and append to list\n",
    "for i in ax.patches:\n",
    "    totals.append(i.get_width())\n",
    "\n",
    "# set individual bar lables using above list\n",
    "total = sum(totals)\n",
    "\n",
    "for i in ax.patches:\n",
    "    # get_width pulls left or right; get_y pushes up or down\n",
    "    ax.text(i.get_x()+.15, i.get_height()-3.5, \\\n",
    "            str(round((i.get_height()/total), 1))+'%',\n",
    "            fontsize=12,\n",
    "            color='white',\n",
    "           weight = 'bold')\n",
    "    "
   ]
  },
  {
   "attachments": {},
   "cell_type": "markdown",
   "metadata": {},
   "source": [
    "We can observe from the bar chart above that Existing Customer are 84% in the dataset and Attrited customers are 16%. Below we are plotting the Pie Plot of our target variable."
   ]
  },
  {
   "cell_type": "code",
   "execution_count": 782,
   "metadata": {},
   "outputs": [
    {
     "name": "stdout",
     "output_type": "stream",
     "text": [
      "Existing Customer    8500\n",
      "Attrited Customer    1627\n",
      "Name: attrition_flag, dtype: int64\n"
     ]
    },
    {
     "data": {
      "image/png": "[encoded data removed]",
      "text/plain": [
       "<Figure size 432x288 with 1 Axes>"
      ]
     },
     "metadata": {},
     "output_type": "display_data"
    }
   ],
   "source": [
    "# Let's calculate the percentage of Business category.\n",
    "data['attrition_flag'].value_counts()\n",
    "func_dict = data[\"attrition_flag\"].value_counts()\n",
    "print(func_dict)\n",
    "\n",
    "#plot the bar graph of percentage categories\n",
    "data['attrition_flag'].value_counts().plot.pie()\n",
    "plt.show()"
   ]
  },
  {
   "attachments": {},
   "cell_type": "markdown",
   "metadata": {},
   "source": [
    "Now we are plotting the Bar plot of distribution of gender in the dataset. we can observe that number of females are slighly higher than the number of males."
   ]
  },
  {
   "cell_type": "code",
   "execution_count": 783,
   "metadata": {},
   "outputs": [
    {
     "data": {
      "image/png": "[encoded data removed]",
      "text/plain": [
       "<Figure size 432x288 with 1 Axes>"
      ]
     },
     "metadata": {
      "needs_background": "light"
     },
     "output_type": "display_data"
    }
   ],
   "source": [
    "ax = (data['gender'].value_counts()*100.0 /len(data)).plot(kind='bar', stacked = True,rot = 0)\n",
    "ax.set_ylabel('% Count')\n",
    "ax.set_xlabel('gender')\n",
    "ax.set_ylabel('% Count')\n",
    "ax.set_title('gender Distribution')\n",
    "\n",
    "# create a list to collect the plt.patches data\n",
    "totals = []\n",
    "\n",
    "# find the values and append to list\n",
    "for i in ax.patches:\n",
    "    totals.append(i.get_width())\n",
    "\n",
    "# set individual bar lables using above list\n",
    "total = sum(totals)\n",
    "\n",
    "for i in ax.patches:\n",
    "    # get_width pulls left or right; get_y pushes up or down\n",
    "    ax.text(i.get_x()+.15, i.get_height()-3.5, \\\n",
    "            str(round((i.get_height()/total), 1))+'%',\n",
    "            fontsize=12,\n",
    "            color='white',\n",
    "           weight = 'bold')\n",
    "    "
   ]
  },
  {
   "attachments": {},
   "cell_type": "markdown",
   "metadata": {},
   "source": [
    "Below is the bar chart of distribution of education level among the dataset. we can see that most of the people are graduates and high school grads, while very few are doctorate as well."
   ]
  },
  {
   "cell_type": "code",
   "execution_count": 784,
   "metadata": {},
   "outputs": [
    {
     "data": {
      "image/png": "[encoded data removed]",
      "text/plain": [
       "<Figure size 720x432 with 1 Axes>"
      ]
     },
     "metadata": {
      "needs_background": "light"
     },
     "output_type": "display_data"
    }
   ],
   "source": [
    "class_counts = data['education_level'].value_counts()\n",
    "total = class_counts.sum()\n",
    "\n",
    "plt.figure(figsize=(10, 6))  \n",
    "\n",
    "ax = class_counts.plot(kind='bar')\n",
    "\n",
    "plt.title('Education Distribution')\n",
    "plt.xlabel('Education')\n",
    "plt.ylabel('Count')\n",
    "\n",
    "\n",
    "# Add percentages on top of the bars\n",
    "for i, count in enumerate(class_counts):\n",
    "    percentage = count / total * 100\n",
    "    ax.text(i, count, f'{percentage:.1f}%', ha='center', va='bottom')\n",
    "\n",
    "plt.show()\n"
   ]
  },
  {
   "attachments": {},
   "cell_type": "markdown",
   "metadata": {},
   "source": [
    "Most of the people in the dataset are married followed by singles, which can be seen in the bar chart below. very few are divorced as well."
   ]
  },
  {
   "cell_type": "code",
   "execution_count": 785,
   "metadata": {},
   "outputs": [
    {
     "data": {
      "image/png": "[encoded data removed]",
      "text/plain": [
       "<Figure size 720x432 with 1 Axes>"
      ]
     },
     "metadata": {
      "needs_background": "light"
     },
     "output_type": "display_data"
    }
   ],
   "source": [
    "class_counts = data['marital_status'].value_counts()\n",
    "total = class_counts.sum()\n",
    "\n",
    "plt.figure(figsize=(10, 6))  # Adjust the width and height as desired\n",
    "\n",
    "ax = class_counts.plot(kind='bar')\n",
    "\n",
    "plt.title('Marital Status Distribution')\n",
    "plt.xlabel('Marital Status')\n",
    "plt.ylabel('Count')\n",
    "\n",
    "\n",
    "# Add percentages on top of the bars\n",
    "for i, count in enumerate(class_counts):\n",
    "    percentage = count / total * 100\n",
    "    ax.text(i, count, f'{percentage:.1f}%', ha='center', va='bottom')\n",
    "\n",
    "plt.show()\n"
   ]
  },
  {
   "attachments": {},
   "cell_type": "markdown",
   "metadata": {},
   "source": [
    "About 90% of people are using blue category card, and rest 10% are using other categories card."
   ]
  },
  {
   "cell_type": "code",
   "execution_count": 786,
   "metadata": {},
   "outputs": [
    {
     "data": {
      "image/png": "[encoded data removed]",
      "text/plain": [
       "<Figure size 720x432 with 1 Axes>"
      ]
     },
     "metadata": {
      "needs_background": "light"
     },
     "output_type": "display_data"
    }
   ],
   "source": [
    "class_counts = data['card_category'].value_counts()\n",
    "total = class_counts.sum()\n",
    "\n",
    "plt.figure(figsize=(10, 6))  # Adjust the width and height as desired\n",
    "\n",
    "ax = class_counts.plot(kind='bar')\n",
    "\n",
    "plt.title('Card Category Distribution')\n",
    "plt.xlabel('Card Category')\n",
    "plt.ylabel('Count')\n",
    "\n",
    "\n",
    "# Add percentages on top of the bars\n",
    "for i, count in enumerate(class_counts):\n",
    "    percentage = count / total * 100\n",
    "    ax.text(i, count, f'{percentage:.1f}%', ha='center', va='bottom')\n",
    "\n",
    "plt.show()\n"
   ]
  },
  {
   "attachments": {},
   "cell_type": "markdown",
   "metadata": {},
   "source": [
    "Most of the people are having income less than 40K, Whereas some of them are having income income aroung &60K TO 80k."
   ]
  },
  {
   "cell_type": "code",
   "execution_count": 787,
   "metadata": {},
   "outputs": [
    {
     "data": {
      "image/png": "[encoded data removed]",
      "text/plain": [
       "<Figure size 720x432 with 1 Axes>"
      ]
     },
     "metadata": {
      "needs_background": "light"
     },
     "output_type": "display_data"
    }
   ],
   "source": [
    "class_counts = data['income_category'].value_counts()\n",
    "total = class_counts.sum()\n",
    "\n",
    "plt.figure(figsize=(10, 6))  # Adjust the width and height as desired\n",
    "\n",
    "ax = class_counts.plot(kind='bar')\n",
    "\n",
    "plt.title('Income Category Distribution')\n",
    "plt.xlabel('Income Category')\n",
    "plt.ylabel('Count')\n",
    "\n",
    "\n",
    "# Add percentages on top of the bars\n",
    "for i, count in enumerate(class_counts):\n",
    "    percentage = count / total * 100\n",
    "    ax.text(i, count, f'{percentage:.1f}%', ha='center', va='bottom')\n",
    "\n",
    "plt.show()\n"
   ]
  },
  {
   "attachments": {},
   "cell_type": "markdown",
   "metadata": {},
   "source": [
    "#### 2.1.4 Relation Ship Between Features"
   ]
  },
  {
   "attachments": {},
   "cell_type": "markdown",
   "metadata": {},
   "source": [
    "Most of the people are using Blue category card so the rate of attrition is also high in this category."
   ]
  },
  {
   "cell_type": "code",
   "execution_count": 788,
   "metadata": {},
   "outputs": [
    {
     "data": {
      "text/plain": [
       "(array([0, 1, 2, 3]),\n",
       " [Text(0, 0, 'Blue'),\n",
       "  Text(1, 0, 'Gold'),\n",
       "  Text(2, 0, 'Platinum'),\n",
       "  Text(3, 0, 'Silver')])"
      ]
     },
     "execution_count": 788,
     "metadata": {},
     "output_type": "execute_result"
    },
    {
     "data": {
      "image/png": "[encoded data removed]",
      "text/plain": [
       "<Figure size 720x432 with 1 Axes>"
      ]
     },
     "metadata": {
      "needs_background": "light"
     },
     "output_type": "display_data"
    }
   ],
   "source": [
    "# Count of People left wrt Card.\n",
    "pd.crosstab(data['card_category'],data['attrition_flag']).plot(kind=\"bar\",figsize=(10,6))\n",
    "plt.title(\"Card Category vs attrition_flag\")\n",
    "plt.xlabel(\"attrition_flag\")\n",
    "plt.ylabel(\"No of people who have attrition chance based on card category\")\n",
    "plt.legend([\"Attrited Customer\",\"Existing Customer\"])\n",
    "plt.xticks(rotation=0)"
   ]
  },
  {
   "attachments": {},
   "cell_type": "markdown",
   "metadata": {},
   "source": [
    "Females are having slighly more attrition rate as compares to males."
   ]
  },
  {
   "cell_type": "code",
   "execution_count": 789,
   "metadata": {},
   "outputs": [
    {
     "data": {
      "text/plain": [
       "(array([0, 1]), [Text(0, 0, 'F'), Text(1, 0, 'M')])"
      ]
     },
     "execution_count": 789,
     "metadata": {},
     "output_type": "execute_result"
    },
    {
     "data": {
      "image/png": "[encoded data removed]",
      "text/plain": [
       "<Figure size 720x432 with 1 Axes>"
      ]
     },
     "metadata": {
      "needs_background": "light"
     },
     "output_type": "display_data"
    }
   ],
   "source": [
    "# Count of People left wrt Gender.\n",
    "pd.crosstab(data['gender'],data['attrition_flag']).plot(kind=\"bar\",figsize=(10,6))\n",
    "plt.title(\"Card Category vs Gender\")\n",
    "plt.xlabel(\"attrition_flag\")\n",
    "plt.ylabel(\"No of people who have attrition chance based on gender\")\n",
    "plt.legend([\"Attrited Customer\",\"Existing Customer\"])\n",
    "plt.xticks(rotation=0)"
   ]
  },
  {
   "attachments": {},
   "cell_type": "markdown",
   "metadata": {},
   "source": [
    "Below is the bivariate plot of the attrition with respect to education level. we can see that rate of attrition is almost same in each category."
   ]
  },
  {
   "cell_type": "code",
   "execution_count": 790,
   "metadata": {},
   "outputs": [
    {
     "data": {
      "text/plain": [
       "(array([0, 1, 2, 3, 4, 5, 6]),\n",
       " [Text(0, 0, 'College'),\n",
       "  Text(1, 0, 'Doctorate'),\n",
       "  Text(2, 0, 'Graduate'),\n",
       "  Text(3, 0, 'High School'),\n",
       "  Text(4, 0, 'Post-Graduate'),\n",
       "  Text(5, 0, 'Uneducated'),\n",
       "  Text(6, 0, 'Unknown')])"
      ]
     },
     "execution_count": 790,
     "metadata": {},
     "output_type": "execute_result"
    },
    {
     "data": {
      "image/png": "[encoded data removed]",
      "text/plain": [
       "<Figure size 720x432 with 1 Axes>"
      ]
     },
     "metadata": {
      "needs_background": "light"
     },
     "output_type": "display_data"
    }
   ],
   "source": [
    "# Count of People left wrt education.\n",
    "pd.crosstab(data['education_level'],data['attrition_flag']).plot(kind=\"bar\",figsize=(10,6))\n",
    "plt.title(\"education_level vs attrition_flag\")\n",
    "plt.xlabel(\"attrition_flag\")\n",
    "plt.ylabel(\"No of people who have attrition chance based on education_level\")\n",
    "plt.legend([\"Attrited Customer\",\"Existing Customer\"])\n",
    "plt.xticks(rotation=0)"
   ]
  },
  {
   "attachments": {},
   "cell_type": "markdown",
   "metadata": {},
   "source": [
    "Below is the age dstribution plot in which we can observe that most of the people in our dataset are having age between 40 to 50. whereas minimum age in 25 and max age is 70."
   ]
  },
  {
   "cell_type": "code",
   "execution_count": 791,
   "metadata": {},
   "outputs": [
    {
     "data": {
      "image/png": "[encoded data removed]",
      "text/plain": [
       "<Figure size 864x360 with 1 Axes>"
      ]
     },
     "metadata": {
      "needs_background": "light"
     },
     "output_type": "display_data"
    }
   ],
   "source": [
    "# Age Distribution\n",
    "plt.figure(figsize=(12,5))\n",
    "plt.title(\"Distribution of Age\")\n",
    "ax = sns.distplot(data[\"customer_age\"], color = 'g')"
   ]
  },
  {
   "attachments": {},
   "cell_type": "markdown",
   "metadata": {},
   "source": [
    "Amost 6000 customer are having 3 0r 2 dependents."
   ]
  },
  {
   "cell_type": "code",
   "execution_count": 792,
   "metadata": {},
   "outputs": [
    {
     "data": {
      "image/png": "[encoded data removed]",
      "text/plain": [
       "<Figure size 432x288 with 1 Axes>"
      ]
     },
     "metadata": {
      "needs_background": "light"
     },
     "output_type": "display_data"
    }
   ],
   "source": [
    "class_counts = data['dependent_count'].value_counts()\n",
    "class_counts.plot(kind='bar')\n",
    "\n",
    "plt.title('dependent Distribution')\n",
    "plt.xlabel('dependent')\n",
    "plt.ylabel('Count')\n",
    "\n",
    "plt.show()"
   ]
  },
  {
   "attachments": {},
   "cell_type": "markdown",
   "metadata": {},
   "source": [
    "## 2.2 Data Pre Processing"
   ]
  },
  {
   "attachments": {},
   "cell_type": "markdown",
   "metadata": {},
   "source": [
    "Before using the data in the machine learning algorithms, preparing the data is a crucial step. Data \n",
    "preprocessing is a data mining technique used to turn the raw data into a format that is both \n",
    "practical and effective.\n",
    "For our dataset, we also must perform some data pre-processing"
   ]
  },
  {
   "attachments": {},
   "cell_type": "markdown",
   "metadata": {},
   "source": [
    "#### 2.2.1 Checking Duplicated and Null Values"
   ]
  },
  {
   "cell_type": "code",
   "execution_count": 793,
   "metadata": {},
   "outputs": [
    {
     "data": {
      "text/plain": [
       "0"
      ]
     },
     "execution_count": 793,
     "metadata": {},
     "output_type": "execute_result"
    }
   ],
   "source": [
    "# Checking Null values in all features.\n",
    "data.duplicated().sum()"
   ]
  },
  {
   "attachments": {},
   "cell_type": "markdown",
   "metadata": {},
   "source": [
    "We can see that our data dont have any duplicates."
   ]
  },
  {
   "cell_type": "code",
   "execution_count": 794,
   "metadata": {},
   "outputs": [
    {
     "data": {
      "text/plain": [
       "client_num                  0\n",
       "attrition_flag              0\n",
       "customer_age                0\n",
       "gender                      0\n",
       "dependent_count             0\n",
       "education_level             0\n",
       "marital_status              0\n",
       "income_category             0\n",
       "card_category               0\n",
       "months_on_book              0\n",
       "total_relationship_count    0\n",
       "months_inactive_12_mon      0\n",
       "contacts_count_12_mon       0\n",
       "credit_limit                0\n",
       "total_revolving_bal         0\n",
       "avg_open_to_buy             0\n",
       "total_amt_chng_q4_q1        0\n",
       "total_trans_amt             0\n",
       "total_trans_ct              0\n",
       "total_ct_chng_q4_q1         0\n",
       "avg_utilization_ratio       0\n",
       "dtype: int64"
      ]
     },
     "execution_count": 794,
     "metadata": {},
     "output_type": "execute_result"
    }
   ],
   "source": [
    "# Checking Null values in all features.\n",
    "data.isnull().sum()"
   ]
  },
  {
   "attachments": {},
   "cell_type": "markdown",
   "metadata": {},
   "source": [
    "We can see that we dont have any Null "
   ]
  },
  {
   "attachments": {},
   "cell_type": "markdown",
   "metadata": {},
   "source": [
    "Checking datatypes of the columns, we can see that we have both continious features and categorical features. so before applying machine learning we have to convert all the categorical features into numeircal form."
   ]
  },
  {
   "attachments": {},
   "cell_type": "markdown",
   "metadata": {},
   "source": [
    "#### 2.2.3 Encode the categorical values"
   ]
  },
  {
   "cell_type": "code",
   "execution_count": 795,
   "metadata": {},
   "outputs": [
    {
     "data": {
      "text/plain": [
       "client_num                    int64\n",
       "attrition_flag               object\n",
       "customer_age                  int64\n",
       "gender                       object\n",
       "dependent_count               int64\n",
       "education_level              object\n",
       "marital_status               object\n",
       "income_category              object\n",
       "card_category                object\n",
       "months_on_book                int64\n",
       "total_relationship_count      int64\n",
       "months_inactive_12_mon        int64\n",
       "contacts_count_12_mon         int64\n",
       "credit_limit                float64\n",
       "total_revolving_bal           int64\n",
       "avg_open_to_buy             float64\n",
       "total_amt_chng_q4_q1        float64\n",
       "total_trans_amt               int64\n",
       "total_trans_ct                int64\n",
       "total_ct_chng_q4_q1         float64\n",
       "avg_utilization_ratio       float64\n",
       "dtype: object"
      ]
     },
     "execution_count": 795,
     "metadata": {},
     "output_type": "execute_result"
    }
   ],
   "source": [
    "# Checking Data Types of every column.\n",
    "data.dtypes"
   ]
  },
  {
   "cell_type": "code",
   "execution_count": 796,
   "metadata": {},
   "outputs": [
    {
     "name": "stdout",
     "output_type": "stream",
     "text": [
      "Index(['client_num', 'attrition_flag', 'customer_age', 'gender',\n",
      "       'dependent_count', 'education_level', 'marital_status',\n",
      "       'income_category', 'card_category', 'months_on_book',\n",
      "       'total_relationship_count', 'months_inactive_12_mon',\n",
      "       'contacts_count_12_mon', 'credit_limit', 'total_revolving_bal',\n",
      "       'avg_open_to_buy', 'total_amt_chng_q4_q1', 'total_trans_amt',\n",
      "       'total_trans_ct', 'total_ct_chng_q4_q1', 'avg_utilization_ratio'],\n",
      "      dtype='object')\n"
     ]
    }
   ],
   "source": [
    "cols = data.columns  # Listing all column names.\n",
    "print(cols)"
   ]
  },
  {
   "cell_type": "code",
   "execution_count": 797,
   "metadata": {},
   "outputs": [
    {
     "name": "stdout",
     "output_type": "stream",
     "text": [
      "Index(['client_num', 'customer_age', 'dependent_count', 'months_on_book',\n",
      "       'total_relationship_count', 'months_inactive_12_mon',\n",
      "       'contacts_count_12_mon', 'credit_limit', 'total_revolving_bal',\n",
      "       'avg_open_to_buy', 'total_amt_chng_q4_q1', 'total_trans_amt',\n",
      "       'total_trans_ct', 'total_ct_chng_q4_q1', 'avg_utilization_ratio'],\n",
      "      dtype='object')\n"
     ]
    }
   ],
   "source": [
    "num_cols = data._get_numeric_data().columns       # Listing all numerical columns.\n",
    "print(num_cols)"
   ]
  },
  {
   "cell_type": "code",
   "execution_count": 798,
   "metadata": {},
   "outputs": [
    {
     "data": {
      "text/plain": [
       "['education_level',\n",
       " 'income_category',\n",
       " 'attrition_flag',\n",
       " 'card_category',\n",
       " 'gender',\n",
       " 'marital_status']"
      ]
     },
     "execution_count": 798,
     "metadata": {},
     "output_type": "execute_result"
    }
   ],
   "source": [
    "# Listing categorical Column\n",
    "categorical_colums = list(set(cols) - set(num_cols))\n",
    "categorical_colums"
   ]
  },
  {
   "attachments": {},
   "cell_type": "markdown",
   "metadata": {},
   "source": [
    "### Label Encoding"
   ]
  },
  {
   "attachments": {},
   "cell_type": "markdown",
   "metadata": {},
   "source": [
    "Most of the columns in our dataset are in integer format, but some features are in categorical object format. To apply machine learning models on the data \n",
    "we first need to convert these features into the numerical format. For that we will \n",
    "perform label encoding on the data."
   ]
  },
  {
   "attachments": {},
   "cell_type": "markdown",
   "metadata": {},
   "source": [
    "Converting Categorical variable into numeircal format."
   ]
  },
  {
   "cell_type": "code",
   "execution_count": 799,
   "metadata": {},
   "outputs": [
    {
     "data": {
      "text/plain": [
       "array(['High School', 'Graduate', 'Uneducated', 'Unknown', 'College',\n",
       "       'Post-Graduate', 'Doctorate'], dtype=object)"
      ]
     },
     "execution_count": 799,
     "metadata": {},
     "output_type": "execute_result"
    }
   ],
   "source": [
    "data['education_level'].unique()"
   ]
  },
  {
   "cell_type": "code",
   "execution_count": 800,
   "metadata": {},
   "outputs": [],
   "source": [
    "data['education_level'] = data['education_level'].map({'High School': 0, 'Graduate': 1, 'Uneducated' :2, 'Unknown':3, 'College':4, 'Post-Graduate':5, 'Doctorate':6})\n",
    "data['education_level'] = pd.to_numeric(data['education_level'])"
   ]
  },
  {
   "cell_type": "code",
   "execution_count": 801,
   "metadata": {},
   "outputs": [
    {
     "data": {
      "text/plain": [
       "array([0, 1, 2, 3, 4, 5, 6], dtype=int64)"
      ]
     },
     "execution_count": 801,
     "metadata": {},
     "output_type": "execute_result"
    }
   ],
   "source": [
    "data['education_level'].unique()"
   ]
  },
  {
   "cell_type": "code",
   "execution_count": 802,
   "metadata": {},
   "outputs": [
    {
     "data": {
      "text/plain": [
       "array(['Existing Customer', 'Attrited Customer'], dtype=object)"
      ]
     },
     "execution_count": 802,
     "metadata": {},
     "output_type": "execute_result"
    }
   ],
   "source": [
    "data['attrition_flag'].unique()"
   ]
  },
  {
   "cell_type": "code",
   "execution_count": 803,
   "metadata": {},
   "outputs": [],
   "source": [
    "data['attrition_flag'] = data['attrition_flag'].map({'Existing Customer': 0, 'Attrited Customer': 1})\n",
    "data['attrition_flag'] = pd.to_numeric(data['attrition_flag'])"
   ]
  },
  {
   "cell_type": "code",
   "execution_count": 804,
   "metadata": {},
   "outputs": [
    {
     "data": {
      "text/plain": [
       "array(['Blue', 'Gold', 'Silver', 'Platinum'], dtype=object)"
      ]
     },
     "execution_count": 804,
     "metadata": {},
     "output_type": "execute_result"
    }
   ],
   "source": [
    "data['card_category'].unique()"
   ]
  },
  {
   "cell_type": "code",
   "execution_count": 805,
   "metadata": {},
   "outputs": [],
   "source": [
    "data['card_category'] = data['card_category'].map({'Blue': 0, 'Gold': 1, 'Silver' :2, 'Platinum':3})\n",
    "data['card_category'] = pd.to_numeric(data['card_category'])"
   ]
  },
  {
   "cell_type": "code",
   "execution_count": 806,
   "metadata": {},
   "outputs": [
    {
     "data": {
      "text/plain": [
       "array(['M', 'F'], dtype=object)"
      ]
     },
     "execution_count": 806,
     "metadata": {},
     "output_type": "execute_result"
    }
   ],
   "source": [
    "data['gender'].unique()"
   ]
  },
  {
   "cell_type": "code",
   "execution_count": 807,
   "metadata": {},
   "outputs": [],
   "source": [
    "data['gender'] = data['gender'].map({'M': 0, 'F': 1})\n",
    "data['gender'] = pd.to_numeric(data['gender'])"
   ]
  },
  {
   "cell_type": "code",
   "execution_count": 808,
   "metadata": {},
   "outputs": [
    {
     "data": {
      "text/plain": [
       "array(['Married', 'Single', 'Unknown', 'Divorced'], dtype=object)"
      ]
     },
     "execution_count": 808,
     "metadata": {},
     "output_type": "execute_result"
    }
   ],
   "source": [
    "data['marital_status'].unique()"
   ]
  },
  {
   "cell_type": "code",
   "execution_count": 809,
   "metadata": {},
   "outputs": [],
   "source": [
    "data['marital_status'] = data['marital_status'].map({'Married': 0, 'Single': 1, 'Unknown' :2, 'Divorced':3})\n",
    "data['marital_status'] = pd.to_numeric(data['marital_status'])"
   ]
  },
  {
   "cell_type": "code",
   "execution_count": 810,
   "metadata": {},
   "outputs": [
    {
     "data": {
      "text/plain": [
       "array(['$60K - $80K', 'Less than $40K', '$80K - $120K', '$40K - $60K',\n",
       "       '$120K +', 'Unknown'], dtype=object)"
      ]
     },
     "execution_count": 810,
     "metadata": {},
     "output_type": "execute_result"
    }
   ],
   "source": [
    "data['income_category'].unique()"
   ]
  },
  {
   "cell_type": "code",
   "execution_count": 811,
   "metadata": {},
   "outputs": [],
   "source": [
    "data['income_category'] = data['income_category'].map({'$60K - $80K': 3, 'Less than $40K': 1, '$80K - $120K' :4, 'Unknown':0, '$40K - $60K':2, '$120K +':5})\n",
    "data['income_category'] = pd.to_numeric(data['income_category'])"
   ]
  },
  {
   "attachments": {},
   "cell_type": "markdown",
   "metadata": {},
   "source": [
    "Now we can see that all the features are in numerical format."
   ]
  },
  {
   "cell_type": "code",
   "execution_count": 812,
   "metadata": {},
   "outputs": [
    {
     "data": {
      "text/plain": [
       "client_num                    int64\n",
       "attrition_flag                int64\n",
       "customer_age                  int64\n",
       "gender                        int64\n",
       "dependent_count               int64\n",
       "education_level               int64\n",
       "marital_status                int64\n",
       "income_category               int64\n",
       "card_category                 int64\n",
       "months_on_book                int64\n",
       "total_relationship_count      int64\n",
       "months_inactive_12_mon        int64\n",
       "contacts_count_12_mon         int64\n",
       "credit_limit                float64\n",
       "total_revolving_bal           int64\n",
       "avg_open_to_buy             float64\n",
       "total_amt_chng_q4_q1        float64\n",
       "total_trans_amt               int64\n",
       "total_trans_ct                int64\n",
       "total_ct_chng_q4_q1         float64\n",
       "avg_utilization_ratio       float64\n",
       "dtype: object"
      ]
     },
     "execution_count": 812,
     "metadata": {},
     "output_type": "execute_result"
    }
   ],
   "source": [
    "# Checking Data Types of every column.\n",
    "data.dtypes"
   ]
  },
  {
   "cell_type": "code",
   "execution_count": 813,
   "metadata": {},
   "outputs": [
    {
     "data": {
      "text/html": [
       "<div>\n",
       "<style scoped>\n",
       "    .dataframe tbody tr th:only-of-type {\n",
       "        vertical-align: middle;\n",
       "    }\n",
       "\n",
       "    .dataframe tbody tr th {\n",
       "        vertical-align: top;\n",
       "    }\n",
       "\n",
       "    .dataframe thead th {\n",
       "        text-align: right;\n",
       "    }\n",
       "</style>\n",
       "<table border=\"1\" class=\"dataframe\">\n",
       "  <thead>\n",
       "    <tr style=\"text-align: right;\">\n",
       "      <th></th>\n",
       "      <th>client_num</th>\n",
       "      <th>attrition_flag</th>\n",
       "      <th>customer_age</th>\n",
       "      <th>gender</th>\n",
       "      <th>dependent_count</th>\n",
       "      <th>education_level</th>\n",
       "      <th>marital_status</th>\n",
       "      <th>income_category</th>\n",
       "      <th>card_category</th>\n",
       "      <th>months_on_book</th>\n",
       "      <th>...</th>\n",
       "      <th>months_inactive_12_mon</th>\n",
       "      <th>contacts_count_12_mon</th>\n",
       "      <th>credit_limit</th>\n",
       "      <th>total_revolving_bal</th>\n",
       "      <th>avg_open_to_buy</th>\n",
       "      <th>total_amt_chng_q4_q1</th>\n",
       "      <th>total_trans_amt</th>\n",
       "      <th>total_trans_ct</th>\n",
       "      <th>total_ct_chng_q4_q1</th>\n",
       "      <th>avg_utilization_ratio</th>\n",
       "    </tr>\n",
       "  </thead>\n",
       "  <tbody>\n",
       "    <tr>\n",
       "      <th>0</th>\n",
       "      <td>768805383</td>\n",
       "      <td>0</td>\n",
       "      <td>45</td>\n",
       "      <td>0</td>\n",
       "      <td>3</td>\n",
       "      <td>0</td>\n",
       "      <td>0</td>\n",
       "      <td>3</td>\n",
       "      <td>0</td>\n",
       "      <td>39</td>\n",
       "      <td>...</td>\n",
       "      <td>1</td>\n",
       "      <td>3</td>\n",
       "      <td>12691.0</td>\n",
       "      <td>777</td>\n",
       "      <td>11914.0</td>\n",
       "      <td>1.335</td>\n",
       "      <td>1144</td>\n",
       "      <td>42</td>\n",
       "      <td>1.625</td>\n",
       "      <td>0.061</td>\n",
       "    </tr>\n",
       "    <tr>\n",
       "      <th>1</th>\n",
       "      <td>818770008</td>\n",
       "      <td>0</td>\n",
       "      <td>49</td>\n",
       "      <td>1</td>\n",
       "      <td>5</td>\n",
       "      <td>1</td>\n",
       "      <td>1</td>\n",
       "      <td>1</td>\n",
       "      <td>0</td>\n",
       "      <td>44</td>\n",
       "      <td>...</td>\n",
       "      <td>1</td>\n",
       "      <td>2</td>\n",
       "      <td>8256.0</td>\n",
       "      <td>864</td>\n",
       "      <td>7392.0</td>\n",
       "      <td>1.541</td>\n",
       "      <td>1291</td>\n",
       "      <td>33</td>\n",
       "      <td>3.714</td>\n",
       "      <td>0.105</td>\n",
       "    </tr>\n",
       "    <tr>\n",
       "      <th>2</th>\n",
       "      <td>713982108</td>\n",
       "      <td>0</td>\n",
       "      <td>51</td>\n",
       "      <td>0</td>\n",
       "      <td>3</td>\n",
       "      <td>1</td>\n",
       "      <td>0</td>\n",
       "      <td>4</td>\n",
       "      <td>0</td>\n",
       "      <td>36</td>\n",
       "      <td>...</td>\n",
       "      <td>1</td>\n",
       "      <td>0</td>\n",
       "      <td>3418.0</td>\n",
       "      <td>0</td>\n",
       "      <td>3418.0</td>\n",
       "      <td>2.594</td>\n",
       "      <td>1887</td>\n",
       "      <td>20</td>\n",
       "      <td>2.333</td>\n",
       "      <td>0.000</td>\n",
       "    </tr>\n",
       "    <tr>\n",
       "      <th>3</th>\n",
       "      <td>769911858</td>\n",
       "      <td>0</td>\n",
       "      <td>40</td>\n",
       "      <td>1</td>\n",
       "      <td>4</td>\n",
       "      <td>0</td>\n",
       "      <td>2</td>\n",
       "      <td>1</td>\n",
       "      <td>0</td>\n",
       "      <td>34</td>\n",
       "      <td>...</td>\n",
       "      <td>4</td>\n",
       "      <td>1</td>\n",
       "      <td>3313.0</td>\n",
       "      <td>2517</td>\n",
       "      <td>796.0</td>\n",
       "      <td>1.405</td>\n",
       "      <td>1171</td>\n",
       "      <td>20</td>\n",
       "      <td>2.333</td>\n",
       "      <td>0.760</td>\n",
       "    </tr>\n",
       "    <tr>\n",
       "      <th>4</th>\n",
       "      <td>709106358</td>\n",
       "      <td>0</td>\n",
       "      <td>40</td>\n",
       "      <td>0</td>\n",
       "      <td>3</td>\n",
       "      <td>2</td>\n",
       "      <td>0</td>\n",
       "      <td>3</td>\n",
       "      <td>0</td>\n",
       "      <td>21</td>\n",
       "      <td>...</td>\n",
       "      <td>1</td>\n",
       "      <td>0</td>\n",
       "      <td>4716.0</td>\n",
       "      <td>0</td>\n",
       "      <td>4716.0</td>\n",
       "      <td>2.175</td>\n",
       "      <td>816</td>\n",
       "      <td>28</td>\n",
       "      <td>2.500</td>\n",
       "      <td>0.000</td>\n",
       "    </tr>\n",
       "  </tbody>\n",
       "</table>\n",
       "<p>5 rows × 21 columns</p>\n",
       "</div>"
      ],
      "text/plain": [
       "   client_num  attrition_flag  customer_age  gender  dependent_count  \\\n",
       "0   768805383               0            45       0                3   \n",
       "1   818770008               0            49       1                5   \n",
       "2   713982108               0            51       0                3   \n",
       "3   769911858               0            40       1                4   \n",
       "4   709106358               0            40       0                3   \n",
       "\n",
       "   education_level  marital_status  income_category  card_category  \\\n",
       "0                0               0                3              0   \n",
       "1                1               1                1              0   \n",
       "2                1               0                4              0   \n",
       "3                0               2                1              0   \n",
       "4                2               0                3              0   \n",
       "\n",
       "   months_on_book  ...  months_inactive_12_mon  contacts_count_12_mon  \\\n",
       "0              39  ...                       1                      3   \n",
       "1              44  ...                       1                      2   \n",
       "2              36  ...                       1                      0   \n",
       "3              34  ...                       4                      1   \n",
       "4              21  ...                       1                      0   \n",
       "\n",
       "   credit_limit  total_revolving_bal  avg_open_to_buy  total_amt_chng_q4_q1  \\\n",
       "0       12691.0                  777          11914.0                 1.335   \n",
       "1        8256.0                  864           7392.0                 1.541   \n",
       "2        3418.0                    0           3418.0                 2.594   \n",
       "3        3313.0                 2517            796.0                 1.405   \n",
       "4        4716.0                    0           4716.0                 2.175   \n",
       "\n",
       "   total_trans_amt  total_trans_ct  total_ct_chng_q4_q1  avg_utilization_ratio  \n",
       "0             1144              42                1.625                  0.061  \n",
       "1             1291              33                3.714                  0.105  \n",
       "2             1887              20                2.333                  0.000  \n",
       "3             1171              20                2.333                  0.760  \n",
       "4              816              28                2.500                  0.000  \n",
       "\n",
       "[5 rows x 21 columns]"
      ]
     },
     "execution_count": 813,
     "metadata": {},
     "output_type": "execute_result"
    }
   ],
   "source": [
    "data.head()"
   ]
  },
  {
   "cell_type": "code",
   "execution_count": 814,
   "metadata": {},
   "outputs": [
    {
     "data": {
      "image/png": "[encoded data removed]",
      "text/plain": [
       "<Figure size 1800x720 with 2 Axes>"
      ]
     },
     "metadata": {
      "needs_background": "light"
     },
     "output_type": "display_data"
    }
   ],
   "source": [
    "#Now lets try plotting the correlation heatmap\n",
    "\n",
    "plt.figure(figsize = (25,10))\n",
    "dataplot = sns.heatmap(data.corr(), cmap=\"YlGnBu\", annot=True)\n",
    "\n",
    "plt.show()"
   ]
  },
  {
   "cell_type": "code",
   "execution_count": 815,
   "metadata": {},
   "outputs": [],
   "source": [
    "# Dropping Unnecessary Column.\n",
    "data.drop('client_num',axis=1,inplace=True)"
   ]
  },
  {
   "attachments": {},
   "cell_type": "markdown",
   "metadata": {},
   "source": [
    "Dropping Client number column because it is not relevant with our target prediction and will cause overfitting in models."
   ]
  },
  {
   "attachments": {},
   "cell_type": "markdown",
   "metadata": {},
   "source": [
    "## 2.3.1 Train - Test Split"
   ]
  },
  {
   "cell_type": "code",
   "execution_count": 816,
   "metadata": {},
   "outputs": [],
   "source": [
    "X = data.loc[:, data.columns != 'attrition_flag']     # All columns except target variable.\n",
    "y = data[['attrition_flag']]                          # Target Variable."
   ]
  },
  {
   "attachments": {},
   "cell_type": "markdown",
   "metadata": {},
   "source": [
    "The train-test split procedure is used to estimate the performance of machine learning algorithms when \n",
    "they are used to make predictions on data not used to train the model. Here we are splitting our dataset \n",
    "into train dataset and test dataset with the ratio of 70-30% where 70% is our train dataset and 30 is our \n",
    "test dataset"
   ]
  },
  {
   "cell_type": "code",
   "execution_count": 817,
   "metadata": {},
   "outputs": [
    {
     "name": "stdout",
     "output_type": "stream",
     "text": [
      "(7088, 19)\n",
      "(7088, 1)\n",
      "(3039, 19)\n",
      "(3039, 1)\n"
     ]
    }
   ],
   "source": [
    "trainX, testX, trainy, testy = train_test_split(X, y, test_size=0.3, random_state=2)\n",
    "print(trainX.shape)\n",
    "print(trainy.shape)\n",
    "print(testX.shape)\n",
    "print(testy.shape)"
   ]
  },
  {
   "cell_type": "code",
   "execution_count": 818,
   "metadata": {},
   "outputs": [
    {
     "name": "stdout",
     "output_type": "stream",
     "text": [
      "Index(['customer_age', 'gender', 'dependent_count', 'education_level',\n",
      "       'marital_status', 'income_category', 'card_category', 'months_on_book',\n",
      "       'total_relationship_count', 'months_inactive_12_mon',\n",
      "       'contacts_count_12_mon', 'credit_limit', 'total_revolving_bal',\n",
      "       'avg_open_to_buy', 'total_amt_chng_q4_q1', 'total_trans_amt',\n",
      "       'total_trans_ct', 'total_ct_chng_q4_q1', 'avg_utilization_ratio'],\n",
      "      dtype='object')\n"
     ]
    }
   ],
   "source": [
    "features = trainX.columns\n",
    "print(features)"
   ]
  },
  {
   "attachments": {},
   "cell_type": "markdown",
   "metadata": {},
   "source": [
    "## 2.3.2 Applying Machine Learning Models"
   ]
  },
  {
   "attachments": {},
   "cell_type": "markdown",
   "metadata": {},
   "source": [
    "### Random Forest Classifier"
   ]
  },
  {
   "cell_type": "code",
   "execution_count": 819,
   "metadata": {},
   "outputs": [],
   "source": [
    "rf = RandomForestClassifier(max_depth=50,n_estimators = 150)\n",
    "rf.fit(trainX,trainy.values.ravel())\n",
    "y_pred = rf.predict(testX)"
   ]
  },
  {
   "cell_type": "code",
   "execution_count": 820,
   "metadata": {},
   "outputs": [
    {
     "name": "stdout",
     "output_type": "stream",
     "text": [
      "              precision    recall  f1-score   support\n",
      "\n",
      "           0       0.97      0.99      0.98      2556\n",
      "           1       0.94      0.81      0.87       483\n",
      "\n",
      "    accuracy                           0.96      3039\n",
      "   macro avg       0.95      0.90      0.92      3039\n",
      "weighted avg       0.96      0.96      0.96      3039\n",
      "\n"
     ]
    }
   ],
   "source": [
    "print(classification_report(testy,y_pred))"
   ]
  },
  {
   "attachments": {},
   "cell_type": "markdown",
   "metadata": {},
   "source": [
    "With Random forest we are getting the accuracy of 96% which is a quite good accuracy."
   ]
  },
  {
   "attachments": {},
   "cell_type": "markdown",
   "metadata": {},
   "source": [
    "#### 2.4.1 Confusion Metrics"
   ]
  },
  {
   "cell_type": "code",
   "execution_count": 821,
   "metadata": {},
   "outputs": [
    {
     "data": {
      "image/png": "[encoded data removed]",
      "text/plain": [
       "<Figure size 576x432 with 2 Axes>"
      ]
     },
     "metadata": {
      "needs_background": "light"
     },
     "output_type": "display_data"
    }
   ],
   "source": [
    "plt.figure(figsize=(8,6))\n",
    "fx=sns.heatmap(confusion_matrix(testy,y_pred), annot=True, fmt=\".2f\",cmap=\"GnBu\")\n",
    "fx.set_title('Confusion Matrix \\n')\n",
    "fx.set_xlabel('\\n Predicted Values\\n')\n",
    "fx.set_ylabel('Actual Values\\n')\n",
    "plt.show()"
   ]
  },
  {
   "attachments": {},
   "cell_type": "markdown",
   "metadata": {},
   "source": [
    "We can see from the confusion matrix that True positives values are 2525. which means this much time class is positive and predicted as positive where as true negative value is 391 which means this much class was negative and predicted as negative. False positive is 31 which means this much class was negative but preidted as positive. and False Negative is 92 which means this much time class was positive but predicted as Negative."
   ]
  },
  {
   "attachments": {},
   "cell_type": "markdown",
   "metadata": {},
   "source": [
    "#### 2.4.2 Precision and Recall"
   ]
  },
  {
   "cell_type": "code",
   "execution_count": 822,
   "metadata": {},
   "outputs": [
    {
     "name": "stdout",
     "output_type": "stream",
     "text": [
      "Accuracy of Random Forest: 96.15004935834156 %\n",
      "------------------------------------\n",
      "Recall: 0.8115942028985508\n",
      "------------------------------------\n",
      "Precision: 0.937799043062201\n",
      "------------------------------------\n"
     ]
    }
   ],
   "source": [
    "accuracy = rf.score(testX, testy)\n",
    "print(\"Accuracy of Random Forest:\",accuracy*100,\"%\")\n",
    "print('------------------------------------')\n",
    "\n",
    "from sklearn.metrics import recall_score\n",
    "recall = recall_score(testy,y_pred)\n",
    "print(\"Recall:\",recall)\n",
    "print('------------------------------------')\n",
    "\n",
    "from sklearn.metrics import precision_score\n",
    "precision = precision_score(testy,y_pred)\n",
    "print(\"Precision:\",precision)\n",
    "print('------------------------------------')"
   ]
  },
  {
   "attachments": {},
   "cell_type": "markdown",
   "metadata": {},
   "source": [
    "Recall is 0.80 which means our model is correctly identifying True positives."
   ]
  },
  {
   "attachments": {},
   "cell_type": "markdown",
   "metadata": {},
   "source": [
    "Precision is the ratio between the True Positives and all the Positives. For our problem statement, that would be the measure of cases that we correctly identify having a churn customer out of all the cases having it"
   ]
  },
  {
   "cell_type": "code",
   "execution_count": 823,
   "metadata": {},
   "outputs": [
    {
     "data": {
      "image/png": "[encoded data removed]",
      "text/plain": [
       "<Figure size 432x288 with 1 Axes>"
      ]
     },
     "metadata": {
      "needs_background": "light"
     },
     "output_type": "display_data"
    }
   ],
   "source": [
    "from sklearn.metrics import roc_curve, auc\n",
    "\n",
    "# Compute the predicted probabilities for each class\n",
    "y_pred_prob = rf.predict_proba(testX)\n",
    "# Compute the micro-average ROC curve and AUC score\n",
    "fpr, tpr, _ = roc_curve(testy, y_pred_prob[:, 1], pos_label=1)\n",
    "roc_auc = auc(fpr, tpr)\n",
    "# Plot the ROC curve\n",
    "plt.plot(fpr, tpr, color='darkorange', lw=2, label='ROC curve (AUC = %0.2f)' % roc_auc)\n",
    "plt.plot([0, 1], [0, 1], color='navy', lw=2, linestyle='--')\n",
    "plt.xlim([0.0, 1.0])\n",
    "plt.ylim([0.0, 1.05])\n",
    "plt.xlabel('False Positive Rate')\n",
    "plt.ylabel('True Positive Rate')\n",
    "plt.title('Receiver operating characteristic curve')\n",
    "plt.legend(loc=\"lower right\")\n",
    "plt.show()"
   ]
  },
  {
   "attachments": {},
   "cell_type": "markdown",
   "metadata": {},
   "source": [
    "ROC curve is quite good for this model as we can see that the line cuve is near the value 1."
   ]
  },
  {
   "attachments": {},
   "cell_type": "markdown",
   "metadata": {},
   "source": [
    "### 2.3.4 Hyper Parameter Tuning of Random Forest Using Grid Search Optimizer."
   ]
  },
  {
   "cell_type": "code",
   "execution_count": 824,
   "metadata": {},
   "outputs": [],
   "source": [
    "rf_cv = RandomForestClassifier()\n",
    "param_grid = {\n",
    "    'max_depth': [2, 5, 10, 20, 30, 40, 50],\n",
    "    'n_estimators': [100, 150, 200, 250, 300, 350, 400, 450, 500, 550, 600] \n",
    "}\n",
    "grid_search = GridSearchCV(estimator = rf_cv, param_grid=param_grid, cv = 3, verbose = 2)\n",
    "grid_search.fit(trainX, trainy.values.ravel())\n",
    "best_grid = grid_search.best_estimator_\n",
    "print(best_grid)"
   ]
  },
  {
   "cell_type": "code",
   "execution_count": 825,
   "metadata": {},
   "outputs": [
    {
     "name": "stdout",
     "output_type": "stream",
     "text": [
      "Accuracy of Random Forest: 96.31457716354063 %\n",
      "------------------------------------\n"
     ]
    }
   ],
   "source": [
    "rf = RandomForestClassifier(max_depth=20,n_estimators = 500)\n",
    "rf.fit(trainX,trainy.values.ravel())\n",
    "y_pred = rf.predict(testX)\n",
    "\n",
    "accuracy = rf.score(testX, testy)\n",
    "print(\"Accuracy of Random Forest:\",accuracy*100,\"%\")\n",
    "print('------------------------------------')"
   ]
  },
  {
   "attachments": {},
   "cell_type": "markdown",
   "metadata": {},
   "source": [
    "After Hyperparameter tuning, we optimized 2 parameters and the accuracy of random forest model increase from 95% to 96."
   ]
  },
  {
   "attachments": {},
   "cell_type": "markdown",
   "metadata": {},
   "source": [
    "### Gradient Boosting Classifier"
   ]
  },
  {
   "cell_type": "code",
   "execution_count": 826,
   "metadata": {},
   "outputs": [],
   "source": [
    "gb = GradientBoostingClassifier(learning_rate=0.01, max_depth=5, n_estimators=400)\n",
    "gb.fit(trainX,trainy.values.ravel())\n",
    "y_pred = gb.predict(testX)"
   ]
  },
  {
   "cell_type": "code",
   "execution_count": 827,
   "metadata": {},
   "outputs": [
    {
     "name": "stdout",
     "output_type": "stream",
     "text": [
      "              precision    recall  f1-score   support\n",
      "\n",
      "           0       0.97      0.99      0.98      2556\n",
      "           1       0.93      0.83      0.88       483\n",
      "\n",
      "    accuracy                           0.96      3039\n",
      "   macro avg       0.95      0.91      0.93      3039\n",
      "weighted avg       0.96      0.96      0.96      3039\n",
      "\n"
     ]
    }
   ],
   "source": [
    "print(classification_report(testy,y_pred))"
   ]
  },
  {
   "attachments": {},
   "cell_type": "markdown",
   "metadata": {},
   "source": [
    "with Gradient boosting we are getting accuracy of 96.3% which is better than random forest model."
   ]
  },
  {
   "cell_type": "code",
   "execution_count": 828,
   "metadata": {},
   "outputs": [
    {
     "data": {
      "image/png": "[encoded data removed]",
      "text/plain": [
       "<Figure size 576x432 with 2 Axes>"
      ]
     },
     "metadata": {
      "needs_background": "light"
     },
     "output_type": "display_data"
    }
   ],
   "source": [
    "plt.figure(figsize=(8,6))\n",
    "fx=sns.heatmap(confusion_matrix(testy,y_pred), annot=True, fmt=\".2f\",cmap=\"GnBu\")\n",
    "fx.set_title('Confusion Matrix \\n')\n",
    "fx.set_xlabel('\\n Predicted Values\\n')\n",
    "fx.set_ylabel('Actual Values\\n')\n",
    "plt.show()"
   ]
  },
  {
   "attachments": {},
   "cell_type": "markdown",
   "metadata": {},
   "source": [
    "We can see from the confusion matrix that True positives values are 2527. which means this much time class is positive and predicted as positive where as true negative value is 402 which means this much class was negative and predicted as negative. False positive is 29 which means this much class was negative but preidted as positive. and False Negative is 81 which means this much time class was positive but predicted as Negative."
   ]
  },
  {
   "cell_type": "code",
   "execution_count": 829,
   "metadata": {},
   "outputs": [
    {
     "name": "stdout",
     "output_type": "stream",
     "text": [
      "Accuracy of Gradient Boosting: 96.34748272458046 %\n",
      "------------------------------------\n",
      "Recall: 0.8281573498964804\n",
      "------------------------------------\n",
      "Precision: 0.9345794392523364\n",
      "------------------------------------\n"
     ]
    }
   ],
   "source": [
    "accuracy = gb.score(testX, testy)\n",
    "print(\"Accuracy of Gradient Boosting:\",accuracy*100,\"%\")\n",
    "print('------------------------------------')\n",
    "\n",
    "from sklearn.metrics import recall_score\n",
    "recall = recall_score(testy,y_pred)\n",
    "print(\"Recall:\",recall)\n",
    "print('------------------------------------')\n",
    "\n",
    "from sklearn.metrics import precision_score\n",
    "precision = precision_score(testy,y_pred)\n",
    "print(\"Precision:\",precision)\n",
    "print('------------------------------------')"
   ]
  },
  {
   "attachments": {},
   "cell_type": "markdown",
   "metadata": {},
   "source": [
    "Recall and Precision of Gradient Boosting model is also better than random forest."
   ]
  },
  {
   "cell_type": "code",
   "execution_count": 830,
   "metadata": {},
   "outputs": [
    {
     "data": {
      "image/png": "[encoded data removed]",
      "text/plain": [
       "<Figure size 432x288 with 1 Axes>"
      ]
     },
     "metadata": {
      "needs_background": "light"
     },
     "output_type": "display_data"
    }
   ],
   "source": [
    "from sklearn.metrics import roc_curve, auc\n",
    "\n",
    "# Compute the predicted probabilities for each class\n",
    "y_pred_prob = rf.predict_proba(testX)\n",
    "# Compute the micro-average ROC curve and AUC score\n",
    "fpr, tpr, _ = roc_curve(testy, y_pred_prob[:, 1], pos_label=1)\n",
    "roc_auc = auc(fpr, tpr)\n",
    "# Plot the ROC curve\n",
    "plt.plot(fpr, tpr, color='darkorange', lw=2, label='ROC curve (AUC = %0.2f)' % roc_auc)\n",
    "plt.plot([0, 1], [0, 1], color='navy', lw=2, linestyle='--')\n",
    "plt.xlim([0.0, 1.0])\n",
    "plt.ylim([0.0, 1.05])\n",
    "plt.xlabel('False Positive Rate')\n",
    "plt.ylabel('True Positive Rate')\n",
    "plt.title('Receiver operating characteristic curve')\n",
    "plt.legend(loc=\"lower right\")\n",
    "plt.show()"
   ]
  },
  {
   "attachments": {},
   "cell_type": "markdown",
   "metadata": {},
   "source": [
    "### 2.3.4 Hyper Parameter Tuning of Gradient Boosting Using Grid Search Optimizer."
   ]
  },
  {
   "cell_type": "code",
   "execution_count": 831,
   "metadata": {},
   "outputs": [],
   "source": [
    "gb_cv = GradientBoostingClassifier()\n",
    "param_grid = {\n",
    "    'learning_rate': [0.01, 0.05, 0.1],\n",
    "    'n_estimators': [100, 150, 200, 250, 300,400,500] \n",
    "}\n",
    "grid_search = GridSearchCV(estimator = gb_cv, param_grid=param_grid, cv = 3, verbose = 2)\n",
    "grid_search.fit(trainX, trainy.values.ravel())\n",
    "best_grid = grid_search.best_estimator_\n",
    "print(best_grid)"
   ]
  },
  {
   "cell_type": "code",
   "execution_count": 832,
   "metadata": {},
   "outputs": [],
   "source": [
    "gb = GradientBoostingClassifier(learning_rate=0.05, n_estimators=500)\n",
    "gb.fit(trainX,trainy.values.ravel())\n",
    "y_pred = gb.predict(testX)"
   ]
  },
  {
   "cell_type": "code",
   "execution_count": 833,
   "metadata": {},
   "outputs": [
    {
     "name": "stdout",
     "output_type": "stream",
     "text": [
      "Accuracy of Gradient Boosting: 97.20302731161567 %\n",
      "------------------------------------\n"
     ]
    }
   ],
   "source": [
    "accuracy = gb.score(testX, testy)\n",
    "print(\"Accuracy of Gradient Boosting:\",accuracy*100,\"%\")\n",
    "print('------------------------------------')"
   ]
  },
  {
   "attachments": {},
   "cell_type": "markdown",
   "metadata": {},
   "source": [
    "After Hyperparameter Tuning, the accuracy of the model increases from 96% to 97%."
   ]
  },
  {
   "attachments": {},
   "cell_type": "markdown",
   "metadata": {},
   "source": [
    "## 2.4.3 Grouping Subset As per Income Categories"
   ]
  },
  {
   "attachments": {},
   "cell_type": "markdown",
   "metadata": {},
   "source": [
    "we are taking 4 categories. Records with \"unknown\" income category are in \"unknown_income_set\", records with low income like less tha $40k are in \"low income set\", records with mediam income like in range $40K - $80K are in \"mediam income set\". Similarly, in the last set we have \"High Income set\" which has income greater than $80K records."
   ]
  },
  {
   "cell_type": "code",
   "execution_count": 834,
   "metadata": {},
   "outputs": [],
   "source": [
    "test = testX"
   ]
  },
  {
   "cell_type": "code",
   "execution_count": 835,
   "metadata": {},
   "outputs": [],
   "source": [
    "test['attrition_flag'] = testy"
   ]
  },
  {
   "cell_type": "code",
   "execution_count": 836,
   "metadata": {},
   "outputs": [
    {
     "data": {
      "text/plain": [
       "(3039, 20)"
      ]
     },
     "execution_count": 836,
     "metadata": {},
     "output_type": "execute_result"
    }
   ],
   "source": [
    "test.shape"
   ]
  },
  {
   "attachments": {},
   "cell_type": "markdown",
   "metadata": {},
   "source": [
    "Creating 4 different datasets on basis of income category."
   ]
  },
  {
   "cell_type": "code",
   "execution_count": 837,
   "metadata": {},
   "outputs": [],
   "source": [
    "# Create a list of income categories for each subset\n",
    "subset_categories = [[0], [1], [2, 3], [4, 5]]\n",
    "\n",
    "# Initialize an empty dictionary to store the subsets\n",
    "dataframes_by_subset = {}\n",
    "\n",
    "# Iterate over the subset categories and filter the dataframe\n",
    "for i, categories in enumerate(subset_categories):\n",
    "    subset_df = test[test['income_category'].isin(categories)]\n",
    "    dataframes_by_subset[i+1] = subset_df\n",
    "\n",
    "# Access the subsets using keys 1, 2, 3, and 4\n",
    "unknown_income_set = dataframes_by_subset[1]\n",
    "low_income_set = dataframes_by_subset[2]\n",
    "mediam_income_set = dataframes_by_subset[3]\n",
    "high_income_set = dataframes_by_subset[4]\n"
   ]
  },
  {
   "attachments": {},
   "cell_type": "markdown",
   "metadata": {},
   "source": [
    "## Evaluating Models on Each Group"
   ]
  },
  {
   "attachments": {},
   "cell_type": "markdown",
   "metadata": {},
   "source": [
    "### For Unknown Income:"
   ]
  },
  {
   "cell_type": "code",
   "execution_count": 838,
   "metadata": {},
   "outputs": [],
   "source": [
    "X = unknown_income_set[['customer_age', 'gender', 'dependent_count',\n",
    "       'education_level', 'marital_status', 'income_category', 'card_category',\n",
    "       'months_on_book', 'total_relationship_count', 'months_inactive_12_mon',\n",
    "       'contacts_count_12_mon', 'credit_limit', 'total_revolving_bal',\n",
    "       'avg_open_to_buy', 'total_amt_chng_q4_q1', 'total_trans_amt',\n",
    "       'total_trans_ct', 'total_ct_chng_q4_q1', 'avg_utilization_ratio'] ]    # All columns except target variable.\n",
    "y = unknown_income_set[['attrition_flag']]                          # Target Variable."
   ]
  },
  {
   "cell_type": "code",
   "execution_count": 839,
   "metadata": {},
   "outputs": [
    {
     "name": "stdout",
     "output_type": "stream",
     "text": [
      "Accuracy of Random Forest on Unknown Income Group: 96.18768328445748 %\n",
      "------------------------------------\n",
      "Recall: 0.873015873015873\n",
      "------------------------------------\n",
      "Precision: 0.9166666666666666\n",
      "------------------------------------\n",
      "Accuracy of Gradient Boosting on Unknown Income Group: 97.65395894428153 %\n",
      "------------------------------------\n",
      "Recall: 0.9206349206349206\n",
      "------------------------------------\n",
      "Precision: 0.9508196721311475\n",
      "------------------------------------\n"
     ]
    }
   ],
   "source": [
    "y_pred = rf.predict(X)\n",
    "\n",
    "accuracy = rf.score(X, y)\n",
    "print(\"Accuracy of Random Forest on Unknown Income Group:\",accuracy*100,\"%\")\n",
    "print('------------------------------------')\n",
    "\n",
    "from sklearn.metrics import recall_score\n",
    "recall = recall_score(y,y_pred)\n",
    "print(\"Recall:\",recall)\n",
    "print('------------------------------------')\n",
    "\n",
    "from sklearn.metrics import precision_score\n",
    "precision = precision_score(y,y_pred)\n",
    "print(\"Precision:\",precision)\n",
    "print('------------------------------------')\n",
    "\n",
    "\n",
    "y_pred = gb.predict(X)\n",
    "\n",
    "accuracy = gb.score(X, y)\n",
    "print(\"Accuracy of Gradient Boosting on Unknown Income Group:\",accuracy*100,\"%\")\n",
    "print('------------------------------------')\n",
    "\n",
    "from sklearn.metrics import recall_score\n",
    "recall = recall_score(y,y_pred)\n",
    "print(\"Recall:\",recall)\n",
    "print('------------------------------------')\n",
    "\n",
    "from sklearn.metrics import precision_score\n",
    "precision = precision_score(y,y_pred)\n",
    "print(\"Precision:\",precision)\n",
    "print('------------------------------------')"
   ]
  },
  {
   "attachments": {},
   "cell_type": "markdown",
   "metadata": {},
   "source": [
    "We can see from the results that here gradient boosting is performing well as compare to the random forest just like on full data in term of all recall, precision and accuracy metrics. Accuracy of gradient booting increase on this category records."
   ]
  },
  {
   "attachments": {},
   "cell_type": "markdown",
   "metadata": {},
   "source": [
    "### For Mediam Income Group"
   ]
  },
  {
   "cell_type": "code",
   "execution_count": 840,
   "metadata": {},
   "outputs": [],
   "source": [
    "X = mediam_income_set[['customer_age', 'gender', 'dependent_count',\n",
    "       'education_level', 'marital_status', 'income_category', 'card_category',\n",
    "       'months_on_book', 'total_relationship_count', 'months_inactive_12_mon',\n",
    "       'contacts_count_12_mon', 'credit_limit', 'total_revolving_bal',\n",
    "       'avg_open_to_buy', 'total_amt_chng_q4_q1', 'total_trans_amt',\n",
    "       'total_trans_ct', 'total_ct_chng_q4_q1', 'avg_utilization_ratio'] ]    # All columns except target variable.\n",
    "y = mediam_income_set[['attrition_flag']]                          # Target Variable."
   ]
  },
  {
   "cell_type": "code",
   "execution_count": 841,
   "metadata": {},
   "outputs": [
    {
     "name": "stdout",
     "output_type": "stream",
     "text": [
      "Accuracy of Random Forest on Mediam Income Group: 95.6149732620321 %\n",
      "------------------------------------\n",
      "Recall: 0.7426470588235294\n",
      "------------------------------------\n",
      "Precision: 0.9439252336448598\n",
      "------------------------------------\n",
      "Accuracy of Gradient Boosting on Mediam Income Group: 96.47058823529412 %\n",
      "------------------------------------\n",
      "Recall: 0.8308823529411765\n",
      "------------------------------------\n",
      "Precision: 0.9186991869918699\n",
      "------------------------------------\n"
     ]
    }
   ],
   "source": [
    "y_pred = rf.predict(X)\n",
    "\n",
    "accuracy = rf.score(X, y)\n",
    "print(\"Accuracy of Random Forest on Mediam Income Group:\",accuracy*100,\"%\")\n",
    "print('------------------------------------')\n",
    "\n",
    "from sklearn.metrics import recall_score\n",
    "recall = recall_score(y,y_pred)\n",
    "print(\"Recall:\",recall)\n",
    "print('------------------------------------')\n",
    "\n",
    "from sklearn.metrics import precision_score\n",
    "precision = precision_score(y,y_pred)\n",
    "print(\"Precision:\",precision)\n",
    "print('------------------------------------')\n",
    "\n",
    "y_pred = gb.predict(X)\n",
    "\n",
    "accuracy = gb.score(X, y)\n",
    "print(\"Accuracy of Gradient Boosting on Mediam Income Group:\",accuracy*100,\"%\")\n",
    "print('------------------------------------')\n",
    "\n",
    "from sklearn.metrics import recall_score\n",
    "recall = recall_score(y,y_pred)\n",
    "print(\"Recall:\",recall)\n",
    "print('------------------------------------')\n",
    "\n",
    "from sklearn.metrics import precision_score\n",
    "precision = precision_score(y,y_pred)\n",
    "print(\"Precision:\",precision)\n",
    "print('------------------------------------')"
   ]
  },
  {
   "attachments": {},
   "cell_type": "markdown",
   "metadata": {},
   "source": [
    "Here as well on the Low level income records, We can see that here gradient boosting is performing well as compare to the random forest just like on full data in term of all recall, precision and accuracy metrics. "
   ]
  },
  {
   "attachments": {},
   "cell_type": "markdown",
   "metadata": {},
   "source": [
    "### For Low Income Group"
   ]
  },
  {
   "cell_type": "code",
   "execution_count": 842,
   "metadata": {},
   "outputs": [],
   "source": [
    "X = low_income_set[['customer_age', 'gender', 'dependent_count',\n",
    "       'education_level', 'marital_status', 'income_category', 'card_category',\n",
    "       'months_on_book', 'total_relationship_count', 'months_inactive_12_mon',\n",
    "       'contacts_count_12_mon', 'credit_limit', 'total_revolving_bal',\n",
    "       'avg_open_to_buy', 'total_amt_chng_q4_q1', 'total_trans_amt',\n",
    "       'total_trans_ct', 'total_ct_chng_q4_q1', 'avg_utilization_ratio'] ]    # All columns except target variable.\n",
    "y = low_income_set[['attrition_flag']]                          # Target Variable."
   ]
  },
  {
   "cell_type": "code",
   "execution_count": 843,
   "metadata": {},
   "outputs": [
    {
     "name": "stdout",
     "output_type": "stream",
     "text": [
      "Accuracy of Random Forest on Low Income Group: 97.54948162111215 %\n",
      "------------------------------------\n",
      "Recall: 0.8922155688622755\n",
      "------------------------------------\n",
      "Precision: 0.9490445859872612\n",
      "------------------------------------\n",
      "Accuracy of Gradient Boosting on Low Income Group: 97.83223374175306 %\n",
      "------------------------------------\n",
      "Recall: 0.9221556886227545\n",
      "------------------------------------\n",
      "Precision: 0.9390243902439024\n",
      "------------------------------------\n"
     ]
    }
   ],
   "source": [
    "y_pred = rf.predict(X)\n",
    "\n",
    "accuracy = rf.score(X, y)\n",
    "print(\"Accuracy of Random Forest on Low Income Group:\",accuracy*100,\"%\")\n",
    "print('------------------------------------')\n",
    "\n",
    "from sklearn.metrics import recall_score\n",
    "recall = recall_score(y,y_pred)\n",
    "print(\"Recall:\",recall)\n",
    "print('------------------------------------')\n",
    "\n",
    "from sklearn.metrics import precision_score\n",
    "precision = precision_score(y,y_pred)\n",
    "print(\"Precision:\",precision)\n",
    "print('------------------------------------')\n",
    "\n",
    "y_pred = gb.predict(X)\n",
    "\n",
    "accuracy = gb.score(X, y)\n",
    "print(\"Accuracy of Gradient Boosting on Low Income Group:\",accuracy*100,\"%\")\n",
    "print('------------------------------------')\n",
    "\n",
    "from sklearn.metrics import recall_score\n",
    "recall = recall_score(y,y_pred)\n",
    "print(\"Recall:\",recall)\n",
    "print('------------------------------------')\n",
    "\n",
    "from sklearn.metrics import precision_score\n",
    "precision = precision_score(y,y_pred)\n",
    "print(\"Precision:\",precision)\n",
    "print('------------------------------------')"
   ]
  },
  {
   "attachments": {},
   "cell_type": "markdown",
   "metadata": {},
   "source": [
    "Here on Mediam level income category, both model are performing very well with 97% accuracy but Graient boosting is slighly better than the random forest."
   ]
  },
  {
   "attachments": {},
   "cell_type": "markdown",
   "metadata": {},
   "source": [
    "### High Income Group"
   ]
  },
  {
   "cell_type": "code",
   "execution_count": 844,
   "metadata": {},
   "outputs": [],
   "source": [
    "X = high_income_set[['customer_age', 'gender', 'dependent_count',\n",
    "       'education_level', 'marital_status', 'income_category', 'card_category',\n",
    "       'months_on_book', 'total_relationship_count', 'months_inactive_12_mon',\n",
    "       'contacts_count_12_mon', 'credit_limit', 'total_revolving_bal',\n",
    "       'avg_open_to_buy', 'total_amt_chng_q4_q1', 'total_trans_amt',\n",
    "       'total_trans_ct', 'total_ct_chng_q4_q1', 'avg_utilization_ratio'] ]    # All columns except target variable.\n",
    "y = high_income_set[['attrition_flag']]                          # Target Variable."
   ]
  },
  {
   "cell_type": "code",
   "execution_count": 845,
   "metadata": {},
   "outputs": [
    {
     "name": "stdout",
     "output_type": "stream",
     "text": [
      "Accuracy of Random Forest on High Income Group: 95.44159544159544 %\n",
      "------------------------------------\n",
      "Recall: 0.7692307692307693\n",
      "------------------------------------\n",
      "Precision: 0.9473684210526315\n",
      "------------------------------------\n",
      "Accuracy of Gradient Boosting on High Income Group: 97.00854700854701 %\n",
      "------------------------------------\n",
      "Recall: 0.8632478632478633\n",
      "------------------------------------\n",
      "Precision: 0.9528301886792453\n",
      "------------------------------------\n"
     ]
    }
   ],
   "source": [
    "y_pred = rf.predict(X)\n",
    "\n",
    "accuracy = rf.score(X, y)\n",
    "print(\"Accuracy of Random Forest on High Income Group:\",accuracy*100,\"%\")\n",
    "print('------------------------------------')\n",
    "\n",
    "from sklearn.metrics import recall_score\n",
    "recall = recall_score(y,y_pred)\n",
    "print(\"Recall:\",recall)\n",
    "print('------------------------------------')\n",
    "\n",
    "from sklearn.metrics import precision_score\n",
    "precision = precision_score(y,y_pred)\n",
    "print(\"Precision:\",precision)\n",
    "print('------------------------------------')\n",
    "\n",
    "y_pred = gb.predict(X)\n",
    "\n",
    "accuracy = gb.score(X, y)\n",
    "print(\"Accuracy of Gradient Boosting on High Income Group:\",accuracy*100,\"%\")\n",
    "print('------------------------------------')\n",
    "\n",
    "from sklearn.metrics import recall_score\n",
    "recall = recall_score(y,y_pred)\n",
    "print(\"Recall:\",recall)\n",
    "print('------------------------------------')\n",
    "\n",
    "from sklearn.metrics import precision_score\n",
    "precision = precision_score(y,y_pred)\n",
    "print(\"Precision:\",precision)\n",
    "print('------------------------------------')"
   ]
  },
  {
   "attachments": {},
   "cell_type": "markdown",
   "metadata": {},
   "source": [
    "Here as well on the High level income records, We can see that here gradient boosting is performing well as compare to the random forest just like on full data in term of all recall, precision and accuracy metrics. "
   ]
  }
 ],
 "metadata": {
  "kernelspec": {
   "display_name": "Python 3",
   "language": "python",
   "name": "python3"
  },
  "language_info": {
   "codemirror_mode": {
    "name": "ipython",
    "version": 3
   },
   "file_extension": ".py",
   "mimetype": "text/x-python",
   "name": "python",
   "nbconvert_exporter": "python",
   "pygments_lexer": "ipython3",
   "version": "3.9.7"
  },
  "orig_nbformat": 4
 },
 "nbformat": 4,
 "nbformat_minor": 2
}
